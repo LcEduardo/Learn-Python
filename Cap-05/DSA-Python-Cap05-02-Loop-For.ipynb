{
 "cells": [
  {
   "cell_type": "markdown",
   "id": "72771b2d",
   "metadata": {},
   "source": [
    "### Loop For Aninhado"
   ]
  },
  {
   "cell_type": "code",
   "execution_count": 3,
   "id": "92b9a95a",
   "metadata": {},
   "outputs": [
    {
     "name": "stdout",
     "output_type": "stream",
     "text": [
      "\n",
      " 0\n",
      "\n",
      " 0\n",
      "\n",
      " 0\n",
      "-----\n",
      "\n",
      " 1\n",
      "\n",
      " 2\n",
      "\n",
      " 3\n",
      "-----\n",
      "\n",
      " 2\n",
      "\n",
      " 4\n",
      "\n",
      " 6\n",
      "-----\n",
      "\n",
      " 3\n",
      "\n",
      " 6\n",
      "\n",
      " 9\n",
      "-----\n",
      "\n",
      " 4\n",
      "\n",
      " 8\n",
      "\n",
      " 12\n",
      "-----\n"
     ]
    }
   ],
   "source": [
    "# Loop Aninhado\n",
    "\n",
    "list1 = [0, 1, 2, 3, 4]\n",
    "list2 = [1, 2, 3]\n",
    "\n",
    "# Loop externo\n",
    "for elemento_list1 in list1:\n",
    "    \n",
    "    # Loop interno\n",
    "    for elemento_list2 in list2:\n",
    "        \n",
    "        print(f\"\\n {elemento_list1 * elemento_list2}\")\n",
    "    \n",
    "    print(\"-----\")\n",
    "        "
   ]
  },
  {
   "cell_type": "code",
   "execution_count": 4,
   "id": "dcb8f9eb",
   "metadata": {},
   "outputs": [
    {
     "name": "stdout",
     "output_type": "stream",
     "text": [
      "O número 47 apareceu nas duas listas!\n"
     ]
    }
   ],
   "source": [
    "# O número 47 aparece na duas listas?\n",
    "\n",
    "lista1 = [30, 40 ,50, 47, 80]\n",
    "lista2 = [47, 43, 21, 50, 33]\n",
    "\n",
    "for i in lista1:\n",
    "    \n",
    "    for j in lista2:\n",
    "        \n",
    "        if i == 47 and j == 47:\n",
    "            \n",
    "            print(\"O número 47 apareceu nas duas listas!\")\n",
    "            "
   ]
  },
  {
   "cell_type": "code",
   "execution_count": 5,
   "id": "37799bef",
   "metadata": {},
   "outputs": [
    {
     "name": "stdout",
     "output_type": "stream",
     "text": [
      "A soma é 128\n"
     ]
    }
   ],
   "source": [
    "# Some os números pares da primeira lista com os números pares da segunda lista \n",
    "\n",
    "lista1 = [10, 33, 30, 14]\n",
    "lista2 = [4, 35, 40, 30]\n",
    "soma = 0\n",
    "\n",
    "for lista in [lista1, lista2]:\n",
    "    \n",
    "    for num in lista:\n",
    "        \n",
    "        if num % 2 == 0:\n",
    "            soma += num\n",
    "            \n",
    "print(f\"A soma é {soma}\")"
   ]
  },
  {
   "cell_type": "code",
   "execution_count": 6,
   "id": "fe485318",
   "metadata": {},
   "outputs": [
    {
     "data": {
      "text/plain": [
       "[10, 33, 30, 14, 4, 35, 40, 30]"
      ]
     },
     "execution_count": 6,
     "metadata": {},
     "output_type": "execute_result"
    }
   ],
   "source": [
    "# Concatenação das listas\n",
    "\n",
    "lista1 + lista2"
   ]
  },
  {
   "cell_type": "code",
   "execution_count": 7,
   "id": "e37e87ff",
   "metadata": {},
   "outputs": [
    {
     "name": "stdout",
     "output_type": "stream",
     "text": [
      "A soma é 128\n"
     ]
    }
   ],
   "source": [
    "# Some os números pares da primeira lista com os números pares da segunda lista \n",
    "\n",
    "lista1 = [10, 33, 30, 14]\n",
    "lista2 = [4, 35, 40, 30]\n",
    "soma = 0\n",
    "\n",
    "for num in lista1 + lista2: # uma forma diferente de sintaxe que leva para o mesmo resultado\n",
    "    \n",
    "        if num % 2 == 0:\n",
    "            soma += num\n",
    "            \n",
    "print(f\"A soma é {soma}\")"
   ]
  },
  {
   "cell_type": "code",
   "execution_count": 11,
   "id": "2fa01683",
   "metadata": {},
   "outputs": [
    {
     "name": "stdout",
     "output_type": "stream",
     "text": [
      "O maior número da matriz é 10\n"
     ]
    }
   ],
   "source": [
    "# Loop em listas de listas (matrizes) para encontrar o maior número\n",
    "\n",
    "matriz = [[1, 2, 3], [4, 10, 6], [7, 8, 9, 5]]\n",
    "maior_numero = 0\n",
    "\n",
    "for linha in matriz: \n",
    "    \n",
    "    for num in linha:\n",
    "        \n",
    "        if num > maior_numero:\n",
    "            maior_numero = num\n",
    "            \n",
    "print(f\"O maior número da matriz é {maior_numero}\")"
   ]
  },
  {
   "cell_type": "code",
   "execution_count": 12,
   "id": "88178100",
   "metadata": {},
   "outputs": [
    {
     "name": "stdout",
     "output_type": "stream",
     "text": [
      "k1\n",
      "K2\n",
      "K3\n"
     ]
    }
   ],
   "source": [
    "# listando as chaves de um dicionário\n",
    "\n",
    "dic = {'k1': 'Lucas', 'K2': 'Renato', 'K3': 'Andrei'}\n",
    "for item in dic:\n",
    "    print(item)"
   ]
  },
  {
   "cell_type": "code",
   "execution_count": 15,
   "id": "7e495621",
   "metadata": {},
   "outputs": [
    {
     "name": "stdout",
     "output_type": "stream",
     "text": [
      "k1 Lucas\n",
      "K2 Renato\n",
      "K3 Andrei\n"
     ]
    }
   ],
   "source": [
    "# Retornando chave  e valor de um dicionário usando método items()\n",
    "\n",
    "for k,v in dic.items():\n",
    "    print(k,v)\n",
    "    "
   ]
  },
  {
   "cell_type": "code",
   "execution_count": null,
   "id": "4b91df43",
   "metadata": {},
   "outputs": [],
   "source": []
  }
 ],
 "metadata": {
  "kernelspec": {
   "display_name": "Python 3 (ipykernel)",
   "language": "python",
   "name": "python3"
  },
  "language_info": {
   "codemirror_mode": {
    "name": "ipython",
    "version": 3
   },
   "file_extension": ".py",
   "mimetype": "text/x-python",
   "name": "python",
   "nbconvert_exporter": "python",
   "pygments_lexer": "ipython3",
   "version": "3.9.13"
  }
 },
 "nbformat": 4,
 "nbformat_minor": 5
}
