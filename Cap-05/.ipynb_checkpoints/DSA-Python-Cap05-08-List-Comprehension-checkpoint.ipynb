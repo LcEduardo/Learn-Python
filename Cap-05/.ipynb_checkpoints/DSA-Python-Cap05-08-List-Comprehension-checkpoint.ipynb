{
 "cells": [
  {
   "cell_type": "markdown",
   "id": "4ffc914d",
   "metadata": {},
   "source": [
    "## List Comprehension\n",
    "\n",
    "[expressã for item in iterable if condição = true]"
   ]
  },
  {
   "cell_type": "code",
   "execution_count": 1,
   "id": "e188cbcd",
   "metadata": {},
   "outputs": [
    {
     "data": {
      "text/plain": [
       "[0, 1, 2, 3, 4, 5, 6, 7, 8, 9]"
      ]
     },
     "execution_count": 1,
     "metadata": {},
     "output_type": "execute_result"
    }
   ],
   "source": [
    "# List compehension que imprime os números até 10\n",
    "[x for x in range(10)]"
   ]
  },
  {
   "cell_type": "code",
   "execution_count": 2,
   "id": "87d2d832",
   "metadata": {},
   "outputs": [],
   "source": [
    "# List compehension que imprime os números até 10 e grave em uma lista python\n",
    "lista_py = [x for x in range(10)]"
   ]
  },
  {
   "cell_type": "code",
   "execution_count": 3,
   "id": "6a3f3def",
   "metadata": {},
   "outputs": [
    {
     "name": "stdout",
     "output_type": "stream",
     "text": [
      "[0, 1, 2, 3, 4, 5, 6, 7, 8, 9]\n"
     ]
    }
   ],
   "source": [
    "print(lista_py)"
   ]
  },
  {
   "cell_type": "code",
   "execution_count": 4,
   "id": "87c78376",
   "metadata": {},
   "outputs": [
    {
     "name": "stdout",
     "output_type": "stream",
     "text": [
      "[0, 1, 2, 3, 4]\n"
     ]
    }
   ],
   "source": [
    "# List compehension que imprime os números menores que 5 em um intervalo de 1 a 10\n",
    "lista_numeros = [x for x in range(10) if x < 5]\n",
    "print(lista_numeros)"
   ]
  },
  {
   "cell_type": "code",
   "execution_count": 5,
   "id": "c3108daa",
   "metadata": {},
   "outputs": [],
   "source": [
    "# Lista de Frutas\n",
    "lista_frutas = [\"banana\", \"abacate\", \"manga\", \"melancia\", \"cereja\"]\n",
    "\n",
    "# Nova lista\n",
    "nova_lista = []"
   ]
  },
  {
   "cell_type": "code",
   "execution_count": 6,
   "id": "66dc2330",
   "metadata": {},
   "outputs": [
    {
     "name": "stdout",
     "output_type": "stream",
     "text": [
      "['manga', 'melancia']\n"
     ]
    }
   ],
   "source": [
    "# Loop tradicional para buscar as palavras com a letra 'm'\n",
    "for i in lista_frutas:\n",
    "    if 'm' in i:\n",
    "        nova_lista.append(i)\n",
    "        \n",
    "print(nova_lista)"
   ]
  },
  {
   "cell_type": "code",
   "execution_count": 7,
   "id": "1ba248de",
   "metadata": {},
   "outputs": [
    {
     "name": "stdout",
     "output_type": "stream",
     "text": [
      "['manga', 'melancia']\n"
     ]
    }
   ],
   "source": [
    "# Mesmo resultado antterior mas com list comprehension\n",
    "nova_lista = [x for x in lista_frutas if 'm' in x]\n",
    "print(nova_lista)"
   ]
  },
  {
   "cell_type": "markdown",
   "id": "a1401a72",
   "metadata": {},
   "source": [
    "## Dict comprehension"
   ]
  },
  {
   "cell_type": "code",
   "execution_count": 11,
   "id": "3b961308",
   "metadata": {},
   "outputs": [
    {
     "name": "stdout",
     "output_type": "stream",
     "text": [
      "{'Bob': 68, 'Michael': 84, 'Zico': 57, 'Ana': 93}\n"
     ]
    }
   ],
   "source": [
    "# Dicionário de alunos e notas\n",
    "dict_alunos = {'Bob': 68, 'Michael': 84, 'Zico': 57, 'Ana': 93}\n",
    "\n",
    "# criamos um novo dicionário imprimindo os pares de chave:valor\n",
    "dict_alunos_status = {k:v for (k, v) in dict_alunos.items()}\n",
    "\n",
    "print(dict_alunos_status)"
   ]
  },
  {
   "cell_type": "code",
   "execution_count": 13,
   "id": "02f9efa5",
   "metadata": {},
   "outputs": [
    {
     "name": "stdout",
     "output_type": "stream",
     "text": [
      "{'Bob': 'Reprovado', 'Michael': 'Aprovado', 'Zico': 'Reprovado', 'Ana': 'Aprovado'}\n"
     ]
    }
   ],
   "source": [
    "# criamos um novo dicionário com o status: nota maior que 70, aorivado, senão, reprovado\n",
    "dict_alunos_status = {k: ('Aprovado' if v > 70 else 'Reprovado') for (k, v) in dict_alunos.items()}\n",
    "print(dict_alunos_status)"
   ]
  },
  {
   "cell_type": "markdown",
   "id": "ebc0b1d1",
   "metadata": {},
   "source": [
    "## Fim"
   ]
  },
  {
   "cell_type": "code",
   "execution_count": null,
   "id": "03cd87dd",
   "metadata": {},
   "outputs": [],
   "source": []
  }
 ],
 "metadata": {
  "kernelspec": {
   "display_name": "Python 3 (ipykernel)",
   "language": "python",
   "name": "python3"
  },
  "language_info": {
   "codemirror_mode": {
    "name": "ipython",
    "version": 3
   },
   "file_extension": ".py",
   "mimetype": "text/x-python",
   "name": "python",
   "nbconvert_exporter": "python",
   "pygments_lexer": "ipython3",
   "version": "3.9.13"
  }
 },
 "nbformat": 4,
 "nbformat_minor": 5
}
