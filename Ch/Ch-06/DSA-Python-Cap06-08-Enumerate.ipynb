{
 "cells": [
  {
   "cell_type": "markdown",
   "id": "8716795c",
   "metadata": {},
   "source": [
    "## Capítulo 6 - Função Enumerate"
   ]
  },
  {
   "cell_type": "markdown",
   "id": "25616e86",
   "metadata": {},
   "source": [
    "### Função Enumerate\n",
    "\n",
    "A função enumerate() em Python é uma função que permite iterar sobre uma estrutura de dados(como uma lista, tupla ou outro objeto iterável). A função enumerate() retorna um objeto enumerado, que pode ser usado em loops para percorrer a estrutura de dados a acessar o contador e o valor de cada elemento."
   ]
  },
  {
   "cell_type": "code",
   "execution_count": 1,
   "id": "89fddb56",
   "metadata": {},
   "outputs": [],
   "source": [
    "seq = ['s', 'a', 'u']"
   ]
  },
  {
   "cell_type": "code",
   "execution_count": 2,
   "id": "3ef103bd",
   "metadata": {},
   "outputs": [
    {
     "data": {
      "text/plain": [
       "[(0, 's'), (1, 'a'), (2, 'u')]"
      ]
     },
     "execution_count": 2,
     "metadata": {},
     "output_type": "execute_result"
    }
   ],
   "source": [
    "list(enumerate(seq))"
   ]
  },
  {
   "cell_type": "code",
   "execution_count": 3,
   "id": "5f43cd8b",
   "metadata": {},
   "outputs": [
    {
     "name": "stdout",
     "output_type": "stream",
     "text": [
      "0 s\n",
      "1 a\n",
      "2 u\n"
     ]
    }
   ],
   "source": [
    "for i, valor in enumerate(seq):\n",
    "    print(i, valor)"
   ]
  },
  {
   "cell_type": "code",
   "execution_count": 5,
   "id": "6ed27eb0",
   "metadata": {},
   "outputs": [
    {
     "name": "stdout",
     "output_type": "stream",
     "text": [
      "s\n",
      "a\n"
     ]
    }
   ],
   "source": [
    "for i, valor in enumerate(seq):\n",
    "    if i >= 2:\n",
    "        break\n",
    "    else:\n",
    "        print(valor)"
   ]
  },
  {
   "cell_type": "code",
   "execution_count": 6,
   "id": "31656d6f",
   "metadata": {},
   "outputs": [],
   "source": [
    "lista = ['Marketing', 'Tecnologia', 'Business']"
   ]
  },
  {
   "cell_type": "code",
   "execution_count": 8,
   "id": "74d2be3e",
   "metadata": {},
   "outputs": [
    {
     "name": "stdout",
     "output_type": "stream",
     "text": [
      "0 Marketing\n",
      "1 Tecnologia\n",
      "2 Business\n"
     ]
    }
   ],
   "source": [
    "for i, item in enumerate(lista):\n",
    "    print(i, item)"
   ]
  },
  {
   "cell_type": "code",
   "execution_count": 9,
   "id": "8aef981a",
   "metadata": {},
   "outputs": [
    {
     "name": "stdout",
     "output_type": "stream",
     "text": [
      "0 D\n",
      "1 a\n",
      "2 t\n",
      "3 a\n",
      "4  \n",
      "5 S\n",
      "6 c\n",
      "7 i\n",
      "8 e\n",
      "9 n\n",
      "10 c\n",
      "11 i\n",
      "12 e\n",
      "13  \n",
      "14 A\n",
      "15 c\n",
      "16 a\n",
      "17 d\n",
      "18 e\n",
      "19 m\n",
      "20 y\n"
     ]
    }
   ],
   "source": [
    "for i, item in enumerate('Data Sciencie Academy'):\n",
    "    print(i, item)"
   ]
  },
  {
   "cell_type": "markdown",
   "id": "269d9eeb",
   "metadata": {},
   "source": [
    "## Fim"
   ]
  }
 ],
 "metadata": {
  "kernelspec": {
   "display_name": "Python 3 (ipykernel)",
   "language": "python",
   "name": "python3"
  },
  "language_info": {
   "codemirror_mode": {
    "name": "ipython",
    "version": 3
   },
   "file_extension": ".py",
   "mimetype": "text/x-python",
   "name": "python",
   "nbconvert_exporter": "python",
   "pygments_lexer": "ipython3",
   "version": "3.9.13"
  }
 },
 "nbformat": 4,
 "nbformat_minor": 5
}
