{
 "cells": [
  {
   "cell_type": "markdown",
   "id": "321ab626",
   "metadata": {},
   "source": [
    "## Capítulo 6 - Função Filter"
   ]
  },
  {
   "cell_type": "markdown",
   "id": "d401fb2f",
   "metadata": {},
   "source": [
    "### Função Filter\n",
    "\n",
    "A função filter() em Python é uma função que filtra elementos de uma estrutura de dados interável (como uma lista, tupla ou outro objeto interável) com base em uma determinada condição. A função filter() retorna um objeto filtro, que pode ser convertido em outras estruturas de dados, como uma lista, se necessário."
   ]
  },
  {
   "cell_type": "code",
   "execution_count": 1,
   "id": "31a21bc3",
   "metadata": {},
   "outputs": [],
   "source": [
    "def verifica_par(num):\n",
    "    if num % 2 == 0:\n",
    "        return True\n",
    "    else:\n",
    "        return False"
   ]
  },
  {
   "cell_type": "code",
   "execution_count": 2,
   "id": "adb23aee",
   "metadata": {},
   "outputs": [
    {
     "data": {
      "text/plain": [
       "False"
      ]
     },
     "execution_count": 2,
     "metadata": {},
     "output_type": "execute_result"
    }
   ],
   "source": [
    "verifica_par(25)"
   ]
  },
  {
   "cell_type": "code",
   "execution_count": 3,
   "id": "9203fee8",
   "metadata": {},
   "outputs": [
    {
     "data": {
      "text/plain": [
       "True"
      ]
     },
     "execution_count": 3,
     "metadata": {},
     "output_type": "execute_result"
    }
   ],
   "source": [
    "verifica_par(8)"
   ]
  },
  {
   "cell_type": "code",
   "execution_count": 4,
   "id": "3dad2e75",
   "metadata": {},
   "outputs": [],
   "source": [
    "lista = list(range(19))"
   ]
  },
  {
   "cell_type": "code",
   "execution_count": 5,
   "id": "510db6f7",
   "metadata": {},
   "outputs": [
    {
     "data": {
      "text/plain": [
       "<filter at 0x2571840dbb0>"
      ]
     },
     "execution_count": 5,
     "metadata": {},
     "output_type": "execute_result"
    }
   ],
   "source": [
    "filter(verifica_par, lista)"
   ]
  },
  {
   "cell_type": "code",
   "execution_count": 6,
   "id": "30b1b62d",
   "metadata": {},
   "outputs": [
    {
     "data": {
      "text/plain": [
       "[0, 2, 4, 6, 8, 10, 12, 14, 16, 18]"
      ]
     },
     "execution_count": 6,
     "metadata": {},
     "output_type": "execute_result"
    }
   ],
   "source": [
    "list(filter(verifica_par, lista))"
   ]
  },
  {
   "cell_type": "code",
   "execution_count": 7,
   "id": "f40f027d",
   "metadata": {},
   "outputs": [
    {
     "data": {
      "text/plain": [
       "[0, 2, 4, 6, 8, 10, 12, 14, 16, 18]"
      ]
     },
     "execution_count": 7,
     "metadata": {},
     "output_type": "execute_result"
    }
   ],
   "source": [
    "list(filter(lambda x: x%2==0, lista))"
   ]
  },
  {
   "cell_type": "code",
   "execution_count": 8,
   "id": "96058ccb",
   "metadata": {},
   "outputs": [
    {
     "data": {
      "text/plain": [
       "[9, 10, 11, 12, 13, 14, 15, 16, 17, 18]"
      ]
     },
     "execution_count": 8,
     "metadata": {},
     "output_type": "execute_result"
    }
   ],
   "source": [
    "list(filter(lambda x: x > 8, lista))"
   ]
  },
  {
   "cell_type": "markdown",
   "id": "5b1b94aa",
   "metadata": {},
   "source": [
    "## Fim"
   ]
  }
 ],
 "metadata": {
  "kernelspec": {
   "display_name": "Python 3 (ipykernel)",
   "language": "python",
   "name": "python3"
  },
  "language_info": {
   "codemirror_mode": {
    "name": "ipython",
    "version": 3
   },
   "file_extension": ".py",
   "mimetype": "text/x-python",
   "name": "python",
   "nbconvert_exporter": "python",
   "pygments_lexer": "ipython3",
   "version": "3.9.13"
  }
 },
 "nbformat": 4,
 "nbformat_minor": 5
}
