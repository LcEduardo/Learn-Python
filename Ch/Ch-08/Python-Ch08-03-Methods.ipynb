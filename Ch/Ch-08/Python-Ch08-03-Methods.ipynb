{
 "cells": [
  {
   "cell_type": "markdown",
   "id": "16a8f493",
   "metadata": {},
   "source": [
    "## Methods\n",
    "\n",
    "Toda função dentro de uma classe é um método."
   ]
  },
  {
   "cell_type": "code",
   "execution_count": 1,
   "id": "ecb7dc3e",
   "metadata": {},
   "outputs": [],
   "source": [
    "class Personagem():\n",
    "    life = 3\n",
    "    \n",
    "    def __init__(self, name, classe, idade = 12):\n",
    "        self.name = name\n",
    "        self.age = idade\n",
    "        self.classe = classe\n",
    "    \n",
    "    def imprimir(self):\n",
    "        print(f\"O jogador {self.name} de {self.age} anos é da Classe {self.classe}.\")\n",
    "    \n",
    "    def setClasse(self, new_classe):\n",
    "        self.classe = new_classe\n",
    "    \n",
    "    def getClasse(self):\n",
    "        return self.classe"
   ]
  },
  {
   "cell_type": "code",
   "execution_count": 2,
   "id": "d6e3b478",
   "metadata": {},
   "outputs": [],
   "source": [
    "p1 = Personagem(\"Atreus\", \"Arqueiro\")"
   ]
  },
  {
   "cell_type": "code",
   "execution_count": 3,
   "id": "8f6fcb1b",
   "metadata": {},
   "outputs": [],
   "source": [
    "p2 = Personagem(\"Harry\", \"Mago\", 21)"
   ]
  },
  {
   "cell_type": "code",
   "execution_count": 4,
   "id": "1a75e4b5",
   "metadata": {},
   "outputs": [
    {
     "name": "stdout",
     "output_type": "stream",
     "text": [
      "O jogador Atreus de 12 anos é da Classe Arqueiro.\n"
     ]
    }
   ],
   "source": [
    "p1.imprimir()"
   ]
  },
  {
   "cell_type": "code",
   "execution_count": 5,
   "id": "35627ff2",
   "metadata": {},
   "outputs": [
    {
     "name": "stdout",
     "output_type": "stream",
     "text": [
      "O jogador Harry de 21 anos é da Classe Mago.\n"
     ]
    }
   ],
   "source": [
    "p2.imprimir()"
   ]
  },
  {
   "cell_type": "code",
   "execution_count": 6,
   "id": "d9c51047",
   "metadata": {},
   "outputs": [
    {
     "data": {
      "text/plain": [
       "'Arqueiro'"
      ]
     },
     "execution_count": 6,
     "metadata": {},
     "output_type": "execute_result"
    }
   ],
   "source": [
    "p1.getClasse()"
   ]
  },
  {
   "cell_type": "code",
   "execution_count": 7,
   "id": "7b76e1b5",
   "metadata": {},
   "outputs": [],
   "source": [
    "p1.setClasse(\"Armeiro\")"
   ]
  },
  {
   "cell_type": "code",
   "execution_count": 8,
   "id": "94a6fa0e",
   "metadata": {},
   "outputs": [
    {
     "data": {
      "text/plain": [
       "'Armeiro'"
      ]
     },
     "execution_count": 8,
     "metadata": {},
     "output_type": "execute_result"
    }
   ],
   "source": [
    "p1.getClasse()"
   ]
  },
  {
   "cell_type": "markdown",
   "id": "8efbdadd",
   "metadata": {},
   "source": [
    "## Fim!"
   ]
  }
 ],
 "metadata": {
  "kernelspec": {
   "display_name": "Python 3 (ipykernel)",
   "language": "python",
   "name": "python3"
  },
  "language_info": {
   "codemirror_mode": {
    "name": "ipython",
    "version": 3
   },
   "file_extension": ".py",
   "mimetype": "text/x-python",
   "name": "python",
   "nbconvert_exporter": "python",
   "pygments_lexer": "ipython3",
   "version": "3.9.13"
  }
 },
 "nbformat": 4,
 "nbformat_minor": 5
}
