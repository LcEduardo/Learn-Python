{
 "cells": [
  {
   "cell_type": "markdown",
   "id": "ea464441",
   "metadata": {},
   "source": [
    "## Objetos\n",
    "\n",
    "**Em python, Tudo é Objeto!**"
   ]
  },
  {
   "cell_type": "code",
   "execution_count": 1,
   "id": "639ded1f",
   "metadata": {},
   "outputs": [],
   "source": [
    "lista_num = ['Hoje', 'Vai', 'Chover', 12, 12]"
   ]
  },
  {
   "cell_type": "code",
   "execution_count": 2,
   "id": "ad2bd470",
   "metadata": {},
   "outputs": [
    {
     "data": {
      "text/plain": [
       "list"
      ]
     },
     "execution_count": 2,
     "metadata": {},
     "output_type": "execute_result"
    }
   ],
   "source": [
    "# A lista_num é um objeto, uma instância da classe lista em Python\n",
    "type(lista_num)"
   ]
  },
  {
   "cell_type": "code",
   "execution_count": 3,
   "id": "3056c0ec",
   "metadata": {},
   "outputs": [
    {
     "name": "stdout",
     "output_type": "stream",
     "text": [
      "<class 'list'>\n"
     ]
    }
   ],
   "source": [
    "print(type([]))"
   ]
  },
  {
   "cell_type": "code",
   "execution_count": 4,
   "id": "3065812d",
   "metadata": {},
   "outputs": [
    {
     "data": {
      "text/plain": [
       "2"
      ]
     },
     "execution_count": 4,
     "metadata": {},
     "output_type": "execute_result"
    }
   ],
   "source": [
    "# Por isso podemos acessar métodos da classe list\n",
    "lista_num.count(12)"
   ]
  },
  {
   "cell_type": "code",
   "execution_count": 5,
   "id": "c0f542e5",
   "metadata": {},
   "outputs": [
    {
     "name": "stdout",
     "output_type": "stream",
     "text": [
      "<class 'int'>\n",
      "<class 'tuple'>\n",
      "<class 'dict'>\n",
      "<class 'str'>\n"
     ]
    }
   ],
   "source": [
    "print(type(10))\n",
    "print(type(()))\n",
    "print(type({}))\n",
    "print(type('a'))"
   ]
  },
  {
   "cell_type": "code",
   "execution_count": 6,
   "id": "6b656be7",
   "metadata": {},
   "outputs": [],
   "source": [
    "class Transformers():\n",
    "    \n",
    "    # Construtor para inicializar os atributos\n",
    "    def __init__(self, name, lado):\n",
    "        self.name = name\n",
    "        self.lado = lado\n",
    "    \n",
    "    def imprimir(self):\n",
    "        print(f\"My name is {self.name}. I'm a {self.lado}!\")"
   ]
  },
  {
   "cell_type": "code",
   "execution_count": 7,
   "id": "eda7d0db",
   "metadata": {},
   "outputs": [],
   "source": [
    "robo1 = Transformers(\"Optimus Prime\", \"Autobot\")"
   ]
  },
  {
   "cell_type": "code",
   "execution_count": 8,
   "id": "98878a4b",
   "metadata": {},
   "outputs": [
    {
     "name": "stdout",
     "output_type": "stream",
     "text": [
      "My name is Optimus Prime. I'm a Autobot!\n"
     ]
    }
   ],
   "source": [
    "robo1.imprimir()"
   ]
  },
  {
   "cell_type": "code",
   "execution_count": 10,
   "id": "1d8d6d72",
   "metadata": {},
   "outputs": [
    {
     "data": {
      "text/plain": [
       "True"
      ]
     },
     "execution_count": 10,
     "metadata": {},
     "output_type": "execute_result"
    }
   ],
   "source": [
    "# Python no objeto robo1 tem o atributo 'name'?\n",
    "hasattr(robo1, \"name\")"
   ]
  },
  {
   "cell_type": "code",
   "execution_count": 13,
   "id": "bee6aa84",
   "metadata": {},
   "outputs": [],
   "source": [
    "# Python no objeto robo1 substitu-a o valor do atributo \"name\" por \"Steve\"\n",
    "setattr(robo1, \"name\", \"Steve\")"
   ]
  },
  {
   "cell_type": "code",
   "execution_count": 15,
   "id": "7b0a783c",
   "metadata": {},
   "outputs": [
    {
     "data": {
      "text/plain": [
       "'Steve'"
      ]
     },
     "execution_count": 15,
     "metadata": {},
     "output_type": "execute_result"
    }
   ],
   "source": [
    "# Python mostra o valor do atributo \"name\" do objeto robo1\n",
    "getattr(robo1, \"name\")"
   ]
  },
  {
   "cell_type": "code",
   "execution_count": 16,
   "id": "9ec5d5e9",
   "metadata": {},
   "outputs": [],
   "source": [
    "# Python no objeto robo1 deleta o atributo \"name\"\n",
    "delattr(robo1, \"name\")"
   ]
  },
  {
   "cell_type": "code",
   "execution_count": 18,
   "id": "7a8e8058",
   "metadata": {},
   "outputs": [
    {
     "data": {
      "text/plain": [
       "False"
      ]
     },
     "execution_count": 18,
     "metadata": {},
     "output_type": "execute_result"
    }
   ],
   "source": [
    "# Python no objeto robo1 tem o atributo 'name'?\n",
    "hasattr(robo1, \"name\")"
   ]
  },
  {
   "cell_type": "markdown",
   "id": "79871e5a",
   "metadata": {},
   "source": [
    "## Fim"
   ]
  }
 ],
 "metadata": {
  "kernelspec": {
   "display_name": "Python 3 (ipykernel)",
   "language": "python",
   "name": "python3"
  },
  "language_info": {
   "codemirror_mode": {
    "name": "ipython",
    "version": 3
   },
   "file_extension": ".py",
   "mimetype": "text/x-python",
   "name": "python",
   "nbconvert_exporter": "python",
   "pygments_lexer": "ipython3",
   "version": "3.9.13"
  }
 },
 "nbformat": 4,
 "nbformat_minor": 5
}
