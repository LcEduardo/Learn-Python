{
 "cells": [
  {
   "cell_type": "markdown",
   "id": "4a43f294",
   "metadata": {},
   "source": [
    "## Trabalhando com Herança em Python"
   ]
  },
  {
   "cell_type": "code",
   "execution_count": 38,
   "id": "58d6e416",
   "metadata": {},
   "outputs": [],
   "source": [
    "class Personagem:\n",
    "    \n",
    "    def __init__(self, name, classe, idade):\n",
    "        self.name = name\n",
    "        self.age = idade\n",
    "        self.classe = classe\n",
    "        \n",
    "    def ataque(self):\n",
    "        print(f\"O personagem {self.name} atacou!\")\n",
    "        \n",
    "    def frase(self):\n",
    "        pass"
   ]
  },
  {
   "cell_type": "code",
   "execution_count": 42,
   "id": "2ddef6e4",
   "metadata": {},
   "outputs": [],
   "source": [
    "class Pirata(Personagem):\n",
    "    \n",
    "    def __init__(self, name, classe, idade):\n",
    "        super().__init__(name, classe, idade)\n",
    "    \n",
    "    def ataque(self):\n",
    "        print(f\"O Pirata {self.name} atacou!\")\n",
    "              \n",
    "    def frase(self):\n",
    "        print(\"Eu vou encontrar o tesouro!!\")"
   ]
  },
  {
   "cell_type": "code",
   "execution_count": 43,
   "id": "d3bc3993",
   "metadata": {},
   "outputs": [],
   "source": [
    "class Marinheiro(Personagem):\n",
    "    \n",
    "    def __init__(self):\n",
    "        super().__init__(name, classe, idade)\n",
    "    \n",
    "    def ataque(self):\n",
    "        print(f\"O Marinheiro {self.name} atacou!\")\n",
    "              \n",
    "    def frase(self):\n",
    "        print(\"Eu vou cumprir a lei!!\")"
   ]
  },
  {
   "cell_type": "code",
   "execution_count": 44,
   "id": "7193f837",
   "metadata": {},
   "outputs": [],
   "source": [
    "luffy = Pirata(\"Luffy\", \"Pirata\", 24)"
   ]
  },
  {
   "cell_type": "code",
   "execution_count": 46,
   "id": "3f455b50",
   "metadata": {},
   "outputs": [
    {
     "name": "stdout",
     "output_type": "stream",
     "text": [
      "O Pirata Luffy atacou!\n"
     ]
    }
   ],
   "source": [
    "luffy.ataque()"
   ]
  },
  {
   "cell_type": "code",
   "execution_count": 47,
   "id": "81b51dbf",
   "metadata": {},
   "outputs": [
    {
     "name": "stdout",
     "output_type": "stream",
     "text": [
      "Eu vou encontrar o tesouro!!\n"
     ]
    }
   ],
   "source": [
    "luffy.frase()"
   ]
  },
  {
   "cell_type": "code",
   "execution_count": null,
   "id": "79e538e5",
   "metadata": {},
   "outputs": [],
   "source": []
  }
 ],
 "metadata": {
  "kernelspec": {
   "display_name": "Python 3 (ipykernel)",
   "language": "python",
   "name": "python3"
  },
  "language_info": {
   "codemirror_mode": {
    "name": "ipython",
    "version": 3
   },
   "file_extension": ".py",
   "mimetype": "text/x-python",
   "name": "python",
   "nbconvert_exporter": "python",
   "pygments_lexer": "ipython3",
   "version": "3.9.13"
  }
 },
 "nbformat": 4,
 "nbformat_minor": 5
}
