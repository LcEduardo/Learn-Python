{
 "cells": [
  {
   "cell_type": "markdown",
   "id": "23fb03a2",
   "metadata": {},
   "source": [
    "## O que são Classes?\n",
    "\n",
    "Uma Classe é um molde de um objeto da vida real. Pense em uma casa: a Classe dela é a planta da casa, e o objeto é a casa em si, finalizada com suas características (concretização da classe).\n",
    "\n",
    "Os **objetos** tem atributos e métodos.\n",
    "\n",
    "- **Atributo:** cor da casa, tamanho, quantas janelas e etc.\n",
    "- **Métodos:** comportamentos, ações."
   ]
  },
  {
   "cell_type": "code",
   "execution_count": 1,
   "id": "bd3890c4",
   "metadata": {},
   "outputs": [],
   "source": [
    "# Criando uma classe\n",
    "class Transformer():\n",
    "    \n",
    "    # Construtor para inicializar os atributos\n",
    "    def __init__(self):\n",
    "        self.name = \"Optimus Prime\"\n",
    "        self.lado = \"Autobots\"\n",
    "        print(\"A cada inicialização de um objeto o construtor é chamado.\")\n",
    "    \n",
    "    def imprimir(self):\n",
    "        print(f\"My name is {self.name}. I'm a {self.lado}!\")\n",
    "        "
   ]
  },
  {
   "cell_type": "code",
   "execution_count": 2,
   "id": "17fb052c",
   "metadata": {},
   "outputs": [
    {
     "name": "stdout",
     "output_type": "stream",
     "text": [
      "A cada inicialização de um objeto o construtor é chamado.\n"
     ]
    }
   ],
   "source": [
    "# Instânciando um objeto da classe \n",
    "Robo1 = Transformer()"
   ]
  },
  {
   "cell_type": "code",
   "execution_count": 3,
   "id": "ab3acbdf",
   "metadata": {},
   "outputs": [
    {
     "data": {
      "text/plain": [
       "'Optimus Prime'"
      ]
     },
     "execution_count": 3,
     "metadata": {},
     "output_type": "execute_result"
    }
   ],
   "source": [
    "Robo1.name"
   ]
  },
  {
   "cell_type": "code",
   "execution_count": 4,
   "id": "1941f3af",
   "metadata": {},
   "outputs": [
    {
     "name": "stdout",
     "output_type": "stream",
     "text": [
      "My name is Optimus Prime. I'm a Autobots!\n"
     ]
    }
   ],
   "source": [
    "Robo1.imprimir()"
   ]
  },
  {
   "cell_type": "code",
   "execution_count": 5,
   "id": "5b6ab685",
   "metadata": {},
   "outputs": [
    {
     "data": {
      "text/plain": [
       "__main__.Transformer"
      ]
     },
     "execution_count": 5,
     "metadata": {},
     "output_type": "execute_result"
    }
   ],
   "source": [
    "# O objeto Robo1 é do tipo Transformers\n",
    "type(Robo1)"
   ]
  },
  {
   "cell_type": "code",
   "execution_count": 8,
   "id": "e4829bfd",
   "metadata": {},
   "outputs": [],
   "source": [
    "class Transformers():\n",
    "    \n",
    "    # Construtor para inicializar os atributos\n",
    "    def __init__(self, name, lado):\n",
    "        self.name = name\n",
    "        self.lado = lado\n",
    "    \n",
    "    def imprimir(self):\n",
    "        print(f\"My name is {self.name}. I'm a {self.lado}!\")"
   ]
  },
  {
   "cell_type": "code",
   "execution_count": 9,
   "id": "c479a6e2",
   "metadata": {},
   "outputs": [],
   "source": [
    "robo1 = Transformers(\"Bumblebee\", \"Autobot\")"
   ]
  },
  {
   "cell_type": "code",
   "execution_count": 10,
   "id": "5f01ff32",
   "metadata": {},
   "outputs": [
    {
     "name": "stdout",
     "output_type": "stream",
     "text": [
      "My name is Bumblebee. I'm a Autobot!\n"
     ]
    }
   ],
   "source": [
    "robo1.imprimir()"
   ]
  },
  {
   "cell_type": "code",
   "execution_count": 11,
   "id": "b4e5833c",
   "metadata": {},
   "outputs": [],
   "source": [
    "robo2 = Transformers(\"Megatron\", \"Decepticon\")"
   ]
  },
  {
   "cell_type": "code",
   "execution_count": 12,
   "id": "6ee94a54",
   "metadata": {},
   "outputs": [
    {
     "name": "stdout",
     "output_type": "stream",
     "text": [
      "My name is Megatron. I'm a Decepticon!\n"
     ]
    }
   ],
   "source": [
    "robo2.imprimir()"
   ]
  },
  {
   "cell_type": "code",
   "execution_count": null,
   "id": "4bcbb336",
   "metadata": {},
   "outputs": [],
   "source": []
  }
 ],
 "metadata": {
  "kernelspec": {
   "display_name": "Python 3 (ipykernel)",
   "language": "python",
   "name": "python3"
  },
  "language_info": {
   "codemirror_mode": {
    "name": "ipython",
    "version": 3
   },
   "file_extension": ".py",
   "mimetype": "text/x-python",
   "name": "python",
   "nbconvert_exporter": "python",
   "pygments_lexer": "ipython3",
   "version": "3.9.13"
  }
 },
 "nbformat": 4,
 "nbformat_minor": 5
}
