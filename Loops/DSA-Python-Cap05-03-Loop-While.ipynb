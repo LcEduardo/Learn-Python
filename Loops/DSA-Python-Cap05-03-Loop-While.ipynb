{
 "cells": [
  {
   "cell_type": "markdown",
   "id": "03d954cc",
   "metadata": {},
   "source": [
    "## Loop While"
   ]
  },
  {
   "cell_type": "code",
   "execution_count": 1,
   "id": "67b423b8",
   "metadata": {},
   "outputs": [
    {
     "name": "stdout",
     "output_type": "stream",
     "text": [
      "0\n",
      "1\n",
      "2\n",
      "3\n",
      "4\n",
      "5\n",
      "6\n",
      "7\n",
      "8\n",
      "9\n"
     ]
    }
   ],
   "source": [
    "# Usando o loop while para imprimir os valores de 0 a 9\n",
    "#A condições tem que deixar de ser verdadeira dentro do loop, senão pode travar o navegdor ou mesmo o computer\n",
    "\n",
    "valor = 0\n",
    "\n",
    "while valor < 10:\n",
    "    print(valor)\n",
    "    valor = valor + 1 # Sempre tem que mudar a condição. Se não entramos em um loop infinito"
   ]
  },
  {
   "cell_type": "code",
   "execution_count": 2,
   "id": "af2ab6dd",
   "metadata": {},
   "outputs": [],
   "source": [
    "# Entra no loop se a condição for somente verdadeira\n",
    "\n",
    "valor = 11 \n",
    "while valor < 10 :\n",
    "    print(valor)"
   ]
  },
  {
   "cell_type": "markdown",
   "id": "3f3701b0",
   "metadata": {},
   "source": [
    "### Pass, Break, continue"
   ]
  },
  {
   "cell_type": "code",
   "execution_count": 5,
   "id": "4df3468b",
   "metadata": {},
   "outputs": [
    {
     "name": "stdout",
     "output_type": "stream",
     "text": [
      "0\n",
      "1\n",
      "2\n",
      "3\n"
     ]
    }
   ],
   "source": [
    "valor = 0\n",
    "while valor < 10:\n",
    "    if valor == 4:\n",
    "        break\n",
    "    else:\n",
    "        pass\n",
    "    print(valor)\n",
    "    valor = valor + 1"
   ]
  },
  {
   "cell_type": "code",
   "execution_count": null,
   "id": "6cf0f2b7",
   "metadata": {},
   "outputs": [],
   "source": []
  }
 ],
 "metadata": {
  "kernelspec": {
   "display_name": "Python 3 (ipykernel)",
   "language": "python",
   "name": "python3"
  },
  "language_info": {
   "codemirror_mode": {
    "name": "ipython",
    "version": 3
   },
   "file_extension": ".py",
   "mimetype": "text/x-python",
   "name": "python",
   "nbconvert_exporter": "python",
   "pygments_lexer": "ipython3",
   "version": "3.9.13"
  }
 },
 "nbformat": 4,
 "nbformat_minor": 5
}
