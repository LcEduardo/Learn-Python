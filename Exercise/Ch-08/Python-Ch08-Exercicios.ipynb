{
 "cells": [
  {
   "cell_type": "code",
   "execution_count": 1,
   "id": "2e06f1b6",
   "metadata": {},
   "outputs": [],
   "source": [
    "# Exercício 1 - Crie um objeto a partir da classe abaixo, chamado roc1, \n",
    "# passando 2 parâmetros e depois faça uma chamada aos atributos e métodos\n",
    "from math import sqrt\n",
    "\n",
    "class Rocket():\n",
    "     \n",
    "    def __init__(self, x=0, y=0):\n",
    "        self.x = x\n",
    "        self.y = y\n",
    "        \n",
    "    def move_rocket(self, x_increment=0, y_increment=1):\n",
    "        self.x += x_increment\n",
    "        self.y += y_increment\n",
    "        \n",
    "    def print_rocket(self):\n",
    "        print(self.x, self.y)"
   ]
  },
  {
   "cell_type": "code",
   "execution_count": 2,
   "id": "7cf5efcd",
   "metadata": {},
   "outputs": [],
   "source": [
    "roc1 = Rocket(10, 10)"
   ]
  },
  {
   "cell_type": "code",
   "execution_count": 3,
   "id": "0a17d012",
   "metadata": {},
   "outputs": [],
   "source": [
    "roc1.move_rocket()"
   ]
  },
  {
   "cell_type": "code",
   "execution_count": 4,
   "id": "5b87f3f9",
   "metadata": {},
   "outputs": [
    {
     "name": "stdout",
     "output_type": "stream",
     "text": [
      "10 11\n"
     ]
    }
   ],
   "source": [
    "roc1.print_rocket()"
   ]
  },
  {
   "cell_type": "code",
   "execution_count": 5,
   "id": "d4b14d97",
   "metadata": {},
   "outputs": [],
   "source": [
    "# Exercício 2 - Crie uma classe chamada Pessoa() com os atributos: nome, cidade, telefone e e-mail. Use pelo menos 2\n",
    "# métodos especiais na sua classe. Crie um objeto da sua classe e faça uma chamada a pelo menos um dos seus métodos\n",
    "# especiais.\n",
    "\n",
    "class Pessoa:\n",
    "    \n",
    "    def __init__(self, nome, cidade, telefone, email):\n",
    "        self.name = nome\n",
    "        self.cep = cidade\n",
    "        self.tell = telefone\n",
    "        self.email = email\n",
    "    \n",
    "    def imprimir_dados(self):\n",
    "        print(f\"Nome: {self.name}.\\nCep: {self.cep}.\\nTell: {self.tell}.\\nE-mail: {self.email}.\")\n",
    "            \n",
    "    def imprimir_contato(self):\n",
    "        print(f\"Tell: {self.tell} / E-mail: {self.email}.\")"
   ]
  },
  {
   "cell_type": "code",
   "execution_count": 6,
   "id": "a6a6b26d",
   "metadata": {},
   "outputs": [],
   "source": [
    "p1 = Pessoa(\"Branca de Neve\", \"Castelo do Norte\", 1235824484, \"brancaneve19@gmail.com\")"
   ]
  },
  {
   "cell_type": "code",
   "execution_count": 7,
   "id": "7b99f65f",
   "metadata": {},
   "outputs": [
    {
     "name": "stdout",
     "output_type": "stream",
     "text": [
      "Nome: Branca de Neve.\n",
      "Cep: Castelo do Norte.\n",
      "Tell: 1235824484.\n",
      "E-mail: brancaneve19@gmail.com.\n"
     ]
    }
   ],
   "source": [
    "p1.imprimir_dados()"
   ]
  },
  {
   "cell_type": "code",
   "execution_count": 8,
   "id": "4297674f",
   "metadata": {},
   "outputs": [
    {
     "name": "stdout",
     "output_type": "stream",
     "text": [
      "Tell: 1235824484 / E-mail: brancaneve19@gmail.com.\n"
     ]
    }
   ],
   "source": [
    "p1.imprimir_contato()"
   ]
  },
  {
   "cell_type": "code",
   "execution_count": 9,
   "id": "8180be96",
   "metadata": {},
   "outputs": [],
   "source": [
    "# Exercício 3 - Crie a classe Smartphone com 2 atributos, tamanho e interface e crie a classe MP3Player com os \n",
    "# atributos capacidade. A classe MP3player deve herdar os atributos da classe Smartphone."
   ]
  },
  {
   "cell_type": "code",
   "execution_count": 10,
   "id": "534482c4",
   "metadata": {},
   "outputs": [],
   "source": [
    "class Smartphone:\n",
    "    \n",
    "    def __init__(self, tamanho, interface):\n",
    "        self.tamanho = tamanho\n",
    "        self.interface = interface\n",
    "    \n",
    "class MP3Player(Smartphone):\n",
    "    \n",
    "    def __init__(self, tamanho, interface, capacidade):\n",
    "        \n",
    "        super().__init__(tamanho, interface)\n",
    "        self.capacidade = capacidade\n",
    "        \n",
    "    def imprimir(self):\n",
    "        print(f\"Tamanho: {self.tamanho}cm\\nInterface: {self.interface}\\nCapacidade: {self.capacidade}T\")"
   ]
  },
  {
   "cell_type": "code",
   "execution_count": 11,
   "id": "4937587c",
   "metadata": {},
   "outputs": [],
   "source": [
    "mp3 = MP3Player(100, \"LG\", 1000)"
   ]
  },
  {
   "cell_type": "code",
   "execution_count": 12,
   "id": "976c34a5",
   "metadata": {},
   "outputs": [
    {
     "name": "stdout",
     "output_type": "stream",
     "text": [
      "Tamanho: 100cm\n",
      "Interface: LG\n",
      "Capacidade: 1000T\n"
     ]
    }
   ],
   "source": [
    "mp3.imprimir()"
   ]
  },
  {
   "cell_type": "markdown",
   "id": "72089821",
   "metadata": {},
   "source": [
    "## Fim"
   ]
  }
 ],
 "metadata": {
  "kernelspec": {
   "display_name": "Python 3 (ipykernel)",
   "language": "python",
   "name": "python3"
  },
  "language_info": {
   "codemirror_mode": {
    "name": "ipython",
    "version": 3
   },
   "file_extension": ".py",
   "mimetype": "text/x-python",
   "name": "python",
   "nbconvert_exporter": "python",
   "pygments_lexer": "ipython3",
   "version": "3.9.13"
  }
 },
 "nbformat": 4,
 "nbformat_minor": 5
}
