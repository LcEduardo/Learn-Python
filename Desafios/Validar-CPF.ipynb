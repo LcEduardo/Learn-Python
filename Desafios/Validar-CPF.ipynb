{
 "cells": [
  {
   "cell_type": "markdown",
   "id": "1cc6b3fa",
   "metadata": {},
   "source": [
    "## Verificar o Formato Básico"
   ]
  },
  {
   "cell_type": "markdown",
   "id": "33d1a694",
   "metadata": {},
   "source": [
    "O CPF é composto por 11 dígitos, geralmente formatado como XXX.XXX.XXX-YY, onde os primeiros 9 dígitos (XXX.XXX.XXX) são os números base, e os últimos 2 dígitos (YY) são os dígitos verificadores.\n",
    "\n",
    "Os dois últimos dígitos do CPF são usados para validar os 9 primeiros. O processo para calcular os dígitos verificadores é o seguinte:\n",
    "\n",
    "Dígito 1:\n",
    "\n",
    "- Multiplica-se cada um dos primeiros 9 dígitos por um peso que decresce de 10 até 2.\n",
    "- Soma-se o resultado dessas multiplicações.\n",
    "- Divide-se a soma por 11 e pega-se o resto da divisão (mod 11).\n",
    "- Se o resto for 0 ou 1, o dígito verificador será 0. Caso contrário, o dígito verificador será 11 menos o resto.\n",
    "\n",
    "Dígito 2:\n",
    "\n",
    "- Multiplica-se cada um dos primeiros 10 dígitos (os 9 originais mais o primeiro dígito verificador) por um peso que decresce de 11 até 2.\n",
    "- Soma-se o resultado dessas multiplicações.\n",
    "- Divide-se a soma por 11 e pega-se o resto da divisão (mod 11).\n",
    "- Se o resto for 0 ou 1, o segundo dígito verificador será 0. Caso contrário, será 11 menos o resto.\n",
    "- Se os dígitos verificadores calculados coincidirem com os dois últimos dígitos do CPF informado, o CPF é considerado válido."
   ]
  },
  {
   "cell_type": "markdown",
   "id": "6b24a5db",
   "metadata": {},
   "source": [
    "### 1. Remova os caracteres não numéricos."
   ]
  },
  {
   "cell_type": "code",
   "execution_count": 2,
   "id": "e82d0c84",
   "metadata": {},
   "outputs": [
    {
     "name": "stdout",
     "output_type": "stream",
     "text": [
      "Digite seu cpd: 123fdp4539mfd\n",
      "1234539\n",
      "None\n"
     ]
    }
   ],
   "source": [
    "def remova_char(cpf_str):\n",
    "    cpf = ''.join(char for char in cpf_str if char.isdigit())\n",
    "    return print(f\"{cpf}\")\n",
    "\n",
    "cpf = input(\"Digite seu cpd: \")\n",
    "print(f\"{remova_char(cpf)}\")"
   ]
  },
  {
   "cell_type": "markdown",
   "id": "4760cb3b",
   "metadata": {},
   "source": [
    "### 2. Verificar a Quantidade de Dígitos"
   ]
  },
  {
   "cell_type": "code",
   "execution_count": 7,
   "id": "43dc2af1",
   "metadata": {},
   "outputs": [
    {
     "name": "stdout",
     "output_type": "stream",
     "text": [
      "Digite seu CPF: 1234pfg\n",
      "O número de dígitos está errado.\n"
     ]
    }
   ],
   "source": [
    "def valide_cpf(cpf_str):\n",
    "    cpf = ''.join(char for char in cpf_str if char.isdigit())\n",
    "    if len(cpf) == 11:\n",
    "        print(\"CPF válido\")\n",
    "    else:\n",
    "        print(\"O quantidade de dígitos está errado.\")\n",
    "        \n",
    "cpf = input(\"Digite seu CPF: \")\n",
    "valide_cpf(cpf)\n"
   ]
  },
  {
   "cell_type": "markdown",
   "id": "f9b6cfbb",
   "metadata": {},
   "source": [
    "### 3. Verificar os Dígitos Verificadores"
   ]
  },
  {
   "cell_type": "code",
   "execution_count": 11,
   "id": "7caa96c0",
   "metadata": {},
   "outputs": [
    {
     "name": "stdout",
     "output_type": "stream",
     "text": [
      "Digite seu CPF: 98883643895\n",
      "O CPF 98883643895 é inválido\n"
     ]
    }
   ],
   "source": [
    "def valide_cpf(cpf_str):\n",
    "    cpf = ''.join(char for char in cpf_str if char.isdigit())\n",
    "    if len(cpf) == 11:\n",
    "        verificar01 = verific_01(cpf)\n",
    "        verificar02 = verific_02(cpf)\n",
    "        \n",
    "        # Comparando inteiros (dígitos) em vez de caracteres\n",
    "        if int(cpf[9]) == verificar01 and int(cpf[10]) == verificar02:\n",
    "            print(f\"O CPF {cpf} é válido\")\n",
    "        else:\n",
    "            print(f\"O CPF {cpf} é inválido\")\n",
    "        \n",
    "    else:\n",
    "        print(\"A quantidade de dígitos está incorreta!\")\n",
    "        \n",
    "def verific_01(cpf):\n",
    "    soma = 0\n",
    "    j = 10\n",
    "    for i in range(9):  # Itera pelos 9 primeiros dígitos\n",
    "        soma += int(cpf[i]) * j\n",
    "        j -= 1\n",
    "        \n",
    "    resto_div = soma % 11\n",
    "    \n",
    "    if resto_div == 0 or resto_div == 1:\n",
    "        return 0\n",
    "    else:\n",
    "        return 11 - resto_div\n",
    "    \n",
    "def verific_02(cpf):\n",
    "    soma = 0\n",
    "    j = 11\n",
    "    for i in range(10):  # Itera pelos 10 primeiros dígitos\n",
    "        soma += int(cpf[i]) * j\n",
    "        j -= 1\n",
    "        \n",
    "    resto_div = soma % 11\n",
    "    \n",
    "    if resto_div == 0 or resto_div == 1:\n",
    "        return 0\n",
    "    else:\n",
    "        return 11 - resto_div\n",
    "\n",
    "cpf = input(\"Digite seu CPF: \")\n",
    "valide_cpf(cpf)\n"
   ]
  },
  {
   "cell_type": "code",
   "execution_count": null,
   "id": "1d401c62",
   "metadata": {},
   "outputs": [],
   "source": []
  }
 ],
 "metadata": {
  "kernelspec": {
   "display_name": "Python 3 (ipykernel)",
   "language": "python",
   "name": "python3"
  },
  "language_info": {
   "codemirror_mode": {
    "name": "ipython",
    "version": 3
   },
   "file_extension": ".py",
   "mimetype": "text/x-python",
   "name": "python",
   "nbconvert_exporter": "python",
   "pygments_lexer": "ipython3",
   "version": "3.9.13"
  }
 },
 "nbformat": 4,
 "nbformat_minor": 5
}
