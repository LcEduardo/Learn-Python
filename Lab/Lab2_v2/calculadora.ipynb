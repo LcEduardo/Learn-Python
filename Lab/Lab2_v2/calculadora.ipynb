{
 "cells": [
  {
   "cell_type": "markdown",
   "id": "f8be339b",
   "metadata": {},
   "source": [
    "## Contruindo Calculadora em Python"
   ]
  },
  {
   "cell_type": "code",
   "execution_count": 5,
   "id": "bf03cbbb",
   "metadata": {},
   "outputs": [
    {
     "name": "stdout",
     "output_type": "stream",
     "text": [
      "************ Calculadora em Python ************\n",
      "\n",
      "Selecione o número da operação desejada:\n",
      " \n",
      "1 - Soma\n",
      "2 - Subtração\n",
      "3 - Multiplicação\n",
      "4 - Divisão\n"
     ]
    }
   ],
   "source": [
    "print(\"************ Calculadora em Python ************\\n\")\n",
    "print(\"Selecione o número da operação desejada:\\n \")\n",
    "print(\"1 - Soma\")\n",
    "print(\"2 - Subtração\")\n",
    "print(\"3 - Multiplicação\")\n",
    "print(\"4 - Divisão\")"
   ]
  },
  {
   "cell_type": "code",
   "execution_count": 16,
   "id": "c5bc1e0e",
   "metadata": {},
   "outputs": [
    {
     "name": "stdout",
     "output_type": "stream",
     "text": [
      "Digite sua opção (1/2/3/4): 3\n"
     ]
    }
   ],
   "source": [
    "escolha = int(input(\"Digite sua opção (1/2/3/4): \"))"
   ]
  },
  {
   "cell_type": "code",
   "execution_count": 17,
   "id": "483411cb",
   "metadata": {},
   "outputs": [
    {
     "name": "stdout",
     "output_type": "stream",
     "text": [
      "\n",
      "Digite o primeiro número: 4\n",
      "\n",
      "Digite o segundo número: 4\n"
     ]
    }
   ],
   "source": [
    "num1 = int(input(\"\\nDigite o primeiro número: \"))\n",
    "num2 = int(input(\"\\nDigite o segundo número: \"))"
   ]
  },
  {
   "cell_type": "code",
   "execution_count": 18,
   "id": "389a421b",
   "metadata": {},
   "outputs": [
    {
     "name": "stdout",
     "output_type": "stream",
     "text": [
      "\n",
      "\n",
      "4 * 4 = 16\n",
      "\n",
      "\n"
     ]
    }
   ],
   "source": [
    "if escolha == 1:\n",
    "    print(\"\\n\")\n",
    "    res = lambda num1, num2: num1+num2\n",
    "    print(f\"{num1} + {num2} = {res(num1,num2)}\")\n",
    "    print('\\n')\n",
    "elif escolha == 2:\n",
    "    print(\"\\n\")\n",
    "    res = lambda num1, num2: num1-num2\n",
    "    print(f\"{num1} - {num2} = {res(num1,num2)}\")\n",
    "    print('\\n')\n",
    "elif escolha == 3:\n",
    "    print(\"\\n\")\n",
    "    res = lambda num1, num2: num1*num2\n",
    "    print(f\"{num1} * {num2} = {res(num1,num2)}\")\n",
    "    print('\\n')\n",
    "elif escolha == 4:\n",
    "    print(\"\\n\")\n",
    "    res = lambda num1,num2: num1/num2\n",
    "    print(f\"{num1} / {num2} = {res(num1,num2)}\")\n",
    "    print('\\n')\n",
    "else:\n",
    "    print(f\"Opção inválida!!\")"
   ]
  },
  {
   "cell_type": "code",
   "execution_count": null,
   "id": "0dbc5fe7",
   "metadata": {},
   "outputs": [],
   "source": []
  }
 ],
 "metadata": {
  "kernelspec": {
   "display_name": "Python 3 (ipykernel)",
   "language": "python",
   "name": "python3"
  },
  "language_info": {
   "codemirror_mode": {
    "name": "ipython",
    "version": 3
   },
   "file_extension": ".py",
   "mimetype": "text/x-python",
   "name": "python",
   "nbconvert_exporter": "python",
   "pygments_lexer": "ipython3",
   "version": "3.9.13"
  }
 },
 "nbformat": 4,
 "nbformat_minor": 5
}
