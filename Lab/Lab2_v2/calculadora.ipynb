{
 "cells": [
  {
   "cell_type": "markdown",
   "id": "f8be339b",
   "metadata": {},
   "source": [
    "## Contruindo Calculadora em Python"
   ]
  },
  {
   "cell_type": "code",
   "execution_count": 1,
   "id": "6fa27e0f",
   "metadata": {},
   "outputs": [],
   "source": [
    "def add(num1, num2):\n",
    "    return num1 + num2\n",
    "\n",
    "def sub(num1, num2):\n",
    "    return num1 - num2\n",
    "\n",
    "def mul(num1, num2):\n",
    "    return num1 * num2\n",
    "\n",
    "def div(num1, num2):\n",
    "    return num1 / num2"
   ]
  },
  {
   "cell_type": "code",
   "execution_count": 2,
   "id": "bf03cbbb",
   "metadata": {},
   "outputs": [
    {
     "name": "stdout",
     "output_type": "stream",
     "text": [
      "************ Calculadora em Python ************\n",
      "\n",
      "Selecione o número da operação desejada:\n",
      " \n",
      "1 - Soma\n",
      "2 - Subtração\n",
      "3 - Multiplicação\n",
      "4 - Divisão\n"
     ]
    }
   ],
   "source": [
    "print(\"************ Calculadora em Python ************\\n\")\n",
    "print(\"Selecione o número da operação desejada:\\n \")\n",
    "print(\"1 - Soma\")\n",
    "print(\"2 - Subtração\")\n",
    "print(\"3 - Multiplicação\")\n",
    "print(\"4 - Divisão\")"
   ]
  },
  {
   "cell_type": "code",
   "execution_count": 6,
   "id": "c5bc1e0e",
   "metadata": {},
   "outputs": [
    {
     "name": "stdout",
     "output_type": "stream",
     "text": [
      "Digite sua opção (1/2/3/4): 2\n"
     ]
    }
   ],
   "source": [
    "escolha = int(input(\"Digite sua opção (1/2/3/4): \"))"
   ]
  },
  {
   "cell_type": "code",
   "execution_count": 7,
   "id": "483411cb",
   "metadata": {},
   "outputs": [
    {
     "name": "stdout",
     "output_type": "stream",
     "text": [
      "\n",
      "Digite o primeiro número: 90\n",
      "\n",
      "Digite o segundo número: 10\n"
     ]
    }
   ],
   "source": [
    "num1 = int(input(\"\\nDigite o primeiro número: \"))\n",
    "num2 = int(input(\"\\nDigite o segundo número: \"))"
   ]
  },
  {
   "cell_type": "code",
   "execution_count": 8,
   "id": "389a421b",
   "metadata": {},
   "outputs": [
    {
     "name": "stdout",
     "output_type": "stream",
     "text": [
      "\n",
      "\n",
      "90 - 10 = 80\n",
      "\n",
      "\n"
     ]
    }
   ],
   "source": [
    "if escolha == 1:\n",
    "    print(\"\\n\")\n",
    "    print(f\"{num1} + {num2} = {add(num1,num2)}\")\n",
    "    print('\\n')\n",
    "elif escolha == 2:\n",
    "    print(\"\\n\")\n",
    "    print(f\"{num1} - {num2} = {sub(num1,num2)}\")\n",
    "    print('\\n')\n",
    "elif escolha == 3:\n",
    "    print(\"\\n\")\n",
    "    print(f\"{num1} * {num2} = {mul(num1,num2)}\")\n",
    "    print('\\n')\n",
    "elif escolha == 4:\n",
    "    print(\"\\n\")\n",
    "    print(f\"{num1} / {num2} = {div(num1,num2)}\")\n",
    "    print('\\n')\n",
    "else:\n",
    "    print(f\"Opção inválida!!\")"
   ]
  },
  {
   "cell_type": "code",
   "execution_count": null,
   "id": "0dbc5fe7",
   "metadata": {},
   "outputs": [],
   "source": []
  }
 ],
 "metadata": {
  "kernelspec": {
   "display_name": "Python 3 (ipykernel)",
   "language": "python",
   "name": "python3"
  },
  "language_info": {
   "codemirror_mode": {
    "name": "ipython",
    "version": 3
   },
   "file_extension": ".py",
   "mimetype": "text/x-python",
   "name": "python",
   "nbconvert_exporter": "python",
   "pygments_lexer": "ipython3",
   "version": "3.9.13"
  }
 },
 "nbformat": 4,
 "nbformat_minor": 5
}
