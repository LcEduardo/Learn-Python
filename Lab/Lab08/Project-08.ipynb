{
 "cells": [
  {
   "cell_type": "markdown",
   "id": "a7d45334",
   "metadata": {},
   "source": [
    "## Jogo da Forca Orientado a Objeto"
   ]
  },
  {
   "cell_type": "code",
   "execution_count": 1,
   "id": "fab98ad4",
   "metadata": {},
   "outputs": [],
   "source": [
    "import random\n",
    "import os\n",
    "from os import name, system"
   ]
  },
  {
   "cell_type": "code",
   "execution_count": 4,
   "id": "4e95d6f5",
   "metadata": {},
   "outputs": [],
   "source": [
    "class limpar_tela:\n",
    "   \n",
    "    def clear_screen():\n",
    "    \n",
    "        if name == 'nt':\n",
    "            _ = system('cls')"
   ]
  },
  {
   "cell_type": "code",
   "execution_count": 50,
   "id": "2cbea571",
   "metadata": {},
   "outputs": [],
   "source": [
    "class AbrirARquivo:\n",
    "    \n",
    "    def __init__(self, arq):\n",
    "        self.arq = arq\n",
    "        self.conteudo = None\n",
    "    def tratamento(self):\n",
    "        try:\n",
    "            with open(self.arq, \"r\") as arquivo:\n",
    "                self.conteudo = arquivo.read()\n",
    "        \n",
    "            print(self.conteudo)\n",
    "        except FileNotFoundError:\n",
    "            print(\"Arquivo não encontrado!\")"
   ]
  },
  {
   "cell_type": "code",
   "execution_count": 60,
   "id": "e4e1b2ac",
   "metadata": {},
   "outputs": [],
   "source": [
    "class TratamentoDoArquivo(AbrirARquivo):\n",
    "    \n",
    "    def __init__(self, arq):\n",
    "        super().__init__(arq)\n",
    "    \n",
    "    def reorganizar(self):\n",
    "        \n",
    "        texto_sem_espaco = self.conteudo.replace(\" \", \"\")\n",
    "        tamanho_da_palavra = texto_sem_espaco.split(\",\")\n",
    "        \n",
    "        print(tamanho_da_palavra)"
   ]
  },
  {
   "cell_type": "code",
   "execution_count": 61,
   "id": "1332b2c3",
   "metadata": {},
   "outputs": [],
   "source": [
    "arq1 = TratamentoDoArquivo(\"C:\\\\PythonDSA\\\\Learn-Python\\\\Ch\\\\Ch-07\\\\projeto\\\\palavras.txt\")"
   ]
  },
  {
   "cell_type": "code",
   "execution_count": 62,
   "id": "7867f22c",
   "metadata": {},
   "outputs": [
    {
     "name": "stdout",
     "output_type": "stream",
     "text": [
      "banana, uva, pera, melancia, morango\n"
     ]
    }
   ],
   "source": [
    "arq1.tratamento()"
   ]
  },
  {
   "cell_type": "code",
   "execution_count": 63,
   "id": "5557c476",
   "metadata": {},
   "outputs": [
    {
     "name": "stdout",
     "output_type": "stream",
     "text": [
      "['banana', 'uva', 'pera', 'melancia', 'morango']\n"
     ]
    }
   ],
   "source": [
    "arq1.reorganizar()"
   ]
  },
  {
   "cell_type": "code",
   "execution_count": null,
   "id": "0f106690",
   "metadata": {},
   "outputs": [],
   "source": [
    "class EscolhendoPalavra(AbrirARquivo):"
   ]
  }
 ],
 "metadata": {
  "kernelspec": {
   "display_name": "Python 3 (ipykernel)",
   "language": "python",
   "name": "python3"
  },
  "language_info": {
   "codemirror_mode": {
    "name": "ipython",
    "version": 3
   },
   "file_extension": ".py",
   "mimetype": "text/x-python",
   "name": "python",
   "nbconvert_exporter": "python",
   "pygments_lexer": "ipython3",
   "version": "3.9.13"
  }
 },
 "nbformat": 4,
 "nbformat_minor": 5
}
