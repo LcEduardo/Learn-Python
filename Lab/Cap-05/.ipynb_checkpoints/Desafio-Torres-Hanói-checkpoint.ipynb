{
 "cells": [
  {
   "cell_type": "markdown",
   "id": "19ddef93",
   "metadata": {},
   "source": [
    "# Torre De Hanói:"
   ]
  },
  {
   "cell_type": "markdown",
   "id": "c61c0450",
   "metadata": {},
   "source": [
    "Criando as hastes e adicionando os discos.\n",
    "- O valor dentro da lista representa o tamanho do disco."
   ]
  },
  {
   "cell_type": "code",
   "execution_count": 2,
   "id": "cae1dad5",
   "metadata": {},
   "outputs": [],
   "source": [
    "haste_a = [3, 2, 1] # Haste de inicío com discos\n",
    "haste_b = []\n",
    "haste_c = [] # Haste de destino"
   ]
  },
  {
   "cell_type": "code",
   "execution_count": 3,
   "id": "895f36a2",
   "metadata": {},
   "outputs": [],
   "source": [
    "def torre_de_hanoi(origem, destino, auxiliar):\n",
    "    disco = haste_a[-1]\n",
    "    if disco == 1:\n",
    "        destino.append(disco)\n",
    "        return print(f\"{destino}\")"
   ]
  },
  {
   "cell_type": "code",
   "execution_count": 4,
   "id": "91905fca",
   "metadata": {},
   "outputs": [
    {
     "name": "stdout",
     "output_type": "stream",
     "text": [
      "[1]\n"
     ]
    }
   ],
   "source": [
    "torre_de_hanoi(haste_a, haste_c, haste_b)"
   ]
  },
  {
   "cell_type": "code",
   "execution_count": null,
   "id": "c508351f",
   "metadata": {},
   "outputs": [],
   "source": [
    "def torre_de_hanoi(origem, destino, auxiliar):\n",
    "    disco = haste_a[-1]\n",
    "    if disco == 3:\n",
    "        destino.append(disco)\n",
    "    else:\n",
    "        torre_de_hanoi(origem, destino, auxiliar)\n",
    "        \n",
    "        "
   ]
  }
 ],
 "metadata": {
  "kernelspec": {
   "display_name": "Python 3 (ipykernel)",
   "language": "python",
   "name": "python3"
  },
  "language_info": {
   "codemirror_mode": {
    "name": "ipython",
    "version": 3
   },
   "file_extension": ".py",
   "mimetype": "text/x-python",
   "name": "python",
   "nbconvert_exporter": "python",
   "pygments_lexer": "ipython3",
   "version": "3.9.13"
  }
 },
 "nbformat": 4,
 "nbformat_minor": 5
}
