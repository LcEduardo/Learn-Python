{
 "cells": [
  {
   "cell_type": "code",
   "execution_count": 5,
   "id": "c3bd48ed",
   "metadata": {},
   "outputs": [],
   "source": [
    "import random\n",
    "from os import system, name"
   ]
  },
  {
   "cell_type": "code",
   "execution_count": 6,
   "id": "83cff91b",
   "metadata": {},
   "outputs": [],
   "source": [
    "def limpar_tela():\n",
    "    \n",
    "    if name == 'nt':\n",
    "        _ = system('cls')"
   ]
  },
  {
   "cell_type": "code",
   "execution_count": 7,
   "id": "15a53358",
   "metadata": {},
   "outputs": [],
   "source": [
    "def game():\n",
    "    \n",
    "    limpar_tela()\n",
    "    \n",
    "    print(\"\\nBem-vindo(a) ao jogo da forca\")\n",
    "    print(\"Adivinhe a palavra abaixo:\\n\")\n",
    "    \n",
    "    base_word = {\n",
    "    \"banana\": [\"_\", \"_\", \"_\", \"_\", \"_\", \"_\"],\n",
    "    \"abacaxi\": [\"_\", \"_\", \"_\", \"_\", \"_\", \"_\", \"_\"],\n",
    "    \"morango\": [\"_\", \"_\", \"_\", \"_\", \"_\", \"_\", \"_\"],\n",
    "    \"laranja\": [\"_\", \"_\", \"_\", \"_\", \"_\", \"_\", \"_\"],\n",
    "    \"uva\": [\"_\", \"_\", \"_\"],\n",
    "    \"melancia\": [\"_\", \"_\", \"_\", \"_\", \"_\", \"_\", \"_\", \"_\"],\n",
    "    \"pera\": [\"_\", \"_\", \"_\", \"_\"],\n",
    "    \"kiwi\": [\"_\", \"_\", \"_\", \"_\"],\n",
    "    \"cereja\": [\"_\", \"_\", \"_\", \"_\", \"_\", \"_\"],\n",
    "    \"manga\": [\"_\", \"_\", \"_\", \"_\", \"_\"]\n",
    "    }\n",
    "    \n",
    "    choice_word = random.randint(1, len(base_word))\n",
    "    # print(choice_word)\n",
    "    \n",
    "    tentativa = 8\n",
    "    letras_erradas = []\n",
    "\n",
    "    for indice, (chave, valor) in enumerate(base_word.items()):\n",
    "        if indice == choice_word:\n",
    "            # print(f\"A palavra é: {valor}\")\n",
    "            word = chave\n",
    "            representacao = valor\n",
    "            \n",
    "    \n",
    "    \n",
    "    while tentativa > 0:\n",
    "        if '_' not in representacao:\n",
    "            break\n",
    "        else:\n",
    "            print(f\"\\nTentativas restantes: {tentativa}\")\n",
    "            print(f\"Letras erradas:\", \" \".join(letras_erradas))\n",
    "            print(representacao)\n",
    "            letra = input(\"Digite uma letra: \").lower()\n",
    "            \n",
    "            if letra in word:\n",
    "                for i, caractere in enumerate(word):\n",
    "                    if caractere == letra:\n",
    "                        representacao[i] = letra\n",
    "            else:\n",
    "                letras_erradas.append(letra)\n",
    "                    \n",
    "                    \n",
    "            \n",
    "            tentativa -= 1\n",
    "\n",
    "    if tentativa == 0:\n",
    "        print(\"\\nVocê perdeu!!\")\n",
    "        print(word.upper())\n",
    "    else:\n",
    "        print(\"\\nYou're the man!!\")\n",
    "        print(word.upper())"
   ]
  },
  {
   "cell_type": "code",
   "execution_count": 8,
   "id": "8d3be576",
   "metadata": {},
   "outputs": [
    {
     "name": "stdout",
     "output_type": "stream",
     "text": [
      "\n",
      "Bem-vindo(a) ao jogo da forca\n",
      "Adivinhe a palavra abaixo:\n",
      "\n",
      "\n",
      "Tentativas restantes: 8\n",
      "Letras erradas: \n",
      "['_', '_', '_', '_', '_', '_', '_']\n",
      "Digite uma letra: a\n",
      "\n",
      "Tentativas restantes: 7\n",
      "Letras erradas: \n",
      "['_', 'a', '_', 'a', '_', '_', 'a']\n",
      "Digite uma letra: l\n",
      "\n",
      "Tentativas restantes: 6\n",
      "Letras erradas: \n",
      "['l', 'a', '_', 'a', '_', '_', 'a']\n",
      "Digite uma letra: r\n",
      "\n",
      "Tentativas restantes: 5\n",
      "Letras erradas: \n",
      "['l', 'a', 'r', 'a', '_', '_', 'a']\n",
      "Digite uma letra: n\n",
      "\n",
      "Tentativas restantes: 4\n",
      "Letras erradas: \n",
      "['l', 'a', 'r', 'a', 'n', '_', 'a']\n",
      "Digite uma letra: j\n",
      "\n",
      "You're the man!!\n",
      "LARANJA\n"
     ]
    }
   ],
   "source": [
    "if __name__ == \"__main__\":\n",
    "    game()"
   ]
  },
  {
   "cell_type": "code",
   "execution_count": null,
   "id": "37832eed",
   "metadata": {},
   "outputs": [],
   "source": []
  }
 ],
 "metadata": {
  "kernelspec": {
   "display_name": "Python 3 (ipykernel)",
   "language": "python",
   "name": "python3"
  },
  "language_info": {
   "codemirror_mode": {
    "name": "ipython",
    "version": 3
   },
   "file_extension": ".py",
   "mimetype": "text/x-python",
   "name": "python",
   "nbconvert_exporter": "python",
   "pygments_lexer": "ipython3",
   "version": "3.9.13"
  }
 },
 "nbformat": 4,
 "nbformat_minor": 5
}
