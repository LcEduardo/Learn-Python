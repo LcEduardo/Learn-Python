{
 "cells": [
  {
   "cell_type": "markdown",
   "id": "3ff2e127",
   "metadata": {},
   "source": [
    "# Lista de exercícios part 1\n",
    "\n",
    "Para praticar o que foi visto no capítulo 5.\n",
    "- Principalmente funções, métodos ranges e etc..."
   ]
  },
  {
   "cell_type": "code",
   "execution_count": 13,
   "id": "7c142d4c",
   "metadata": {},
   "outputs": [],
   "source": [
    "# Exercício 1 - Crie uma função que imprima a sequência de números pares entre 1 e 20 (a função não recebe parâmetro) \\n\",\n",
    "# e depois faça uma chamada à função para listar os números\n",
    "\n",
    "def print_par():\n",
    "    for i in range(1,21):\n",
    "        if i % 2 == 0: \n",
    "            # Se eu usar 'return print(i)' o programa encerrara por que return encerra o programa após a confirmação do if.\n",
    "            print(i)\n",
    "        else: \n",
    "            continue"
   ]
  },
  {
   "cell_type": "code",
   "execution_count": 14,
   "id": "d90abae2",
   "metadata": {},
   "outputs": [
    {
     "name": "stdout",
     "output_type": "stream",
     "text": [
      "2\n",
      "4\n",
      "6\n",
      "8\n",
      "10\n",
      "12\n",
      "14\n",
      "16\n",
      "18\n",
      "20\n"
     ]
    }
   ],
   "source": [
    "print_par()"
   ]
  },
  {
   "cell_type": "code",
   "execution_count": 15,
   "id": "1ce5cc2e",
   "metadata": {},
   "outputs": [],
   "source": [
    "# Exercício 2 - Crie uam função que receba uma string como argumento e retorne a mesma string em letras maiúsculas.\\n\n",
    "# Faça uma chamada à função, passando como parâmetro uma string\n",
    "\n",
    "def upper_case(frase):\n",
    "    return frase.upper()"
   ]
  },
  {
   "cell_type": "code",
   "execution_count": 16,
   "id": "88793ba7",
   "metadata": {},
   "outputs": [
    {
     "data": {
      "text/plain": [
       "\"EU SOU MONKEY D'LUFFY\""
      ]
     },
     "execution_count": 16,
     "metadata": {},
     "output_type": "execute_result"
    }
   ],
   "source": [
    "frase = \"Eu sou Monkey D'Luffy\"\n",
    "upper_case(frase)"
   ]
  },
  {
   "cell_type": "code",
   "execution_count": 22,
   "id": "213ff800",
   "metadata": {},
   "outputs": [],
   "source": [
    "# Exercício 3 - Crie uma função que receba como parâmetro uma lista de 4 elementos, adicione 2 elementos a lista e \\n\n",
    "# Imprima a lista\n",
    "\n",
    "def add_two(lista):\n",
    "    # Posso usar o 'append' mas eu teria que fazer isso para cada elemento que eu quiser add na lista.\n",
    "    lista.extend([99, 999])\n",
    "    for i in lista:\n",
    "        print(i)"
   ]
  },
  {
   "cell_type": "code",
   "execution_count": 23,
   "id": "963c598b",
   "metadata": {},
   "outputs": [
    {
     "name": "stdout",
     "output_type": "stream",
     "text": [
      "1\n",
      "2\n",
      "4\n",
      "5\n",
      "99\n",
      "999\n"
     ]
    }
   ],
   "source": [
    "lista = [1,2,4,5]\n",
    "add_two(lista)"
   ]
  },
  {
   "cell_type": "code",
   "execution_count": 29,
   "id": "47924291",
   "metadata": {},
   "outputs": [],
   "source": [
    "# Exercício 4 - Crie uma função que receba um argumento formal e uma possível lista de elementos. Faça duas chamadas \\n\n",
    "# à função, com apenas 1 elemento e na segunda chamada com 4 elementos\n",
    "\n",
    "def printVarInfo(arg1, *vartuple):\n",
    "    print(f\"O argumento passado foi: {arg1}\")\n",
    "    \n",
    "    for i in vartuple:\n",
    "        print(f\"O argumento passado foi: {i}\")"
   ]
  },
  {
   "cell_type": "code",
   "execution_count": 30,
   "id": "90b81200",
   "metadata": {},
   "outputs": [
    {
     "name": "stdout",
     "output_type": "stream",
     "text": [
      "O argumento passado foi: Luffy\n"
     ]
    }
   ],
   "source": [
    "printVarInfo(\"Luffy\")"
   ]
  },
  {
   "cell_type": "code",
   "execution_count": 31,
   "id": "0b3d86b7",
   "metadata": {},
   "outputs": [
    {
     "name": "stdout",
     "output_type": "stream",
     "text": [
      "O argumento passado foi: Zoro\n",
      "O argumento passado foi: Sanji\n",
      "O argumento passado foi: Nami\n"
     ]
    }
   ],
   "source": [
    "printVarInfo(\"Zoro\", \"Sanji\", \"Nami\")"
   ]
  },
  {
   "cell_type": "code",
   "execution_count": 33,
   "id": "8d191fd4",
   "metadata": {},
   "outputs": [
    {
     "data": {
      "text/plain": [
       "10"
      ]
     },
     "execution_count": 33,
     "metadata": {},
     "output_type": "execute_result"
    }
   ],
   "source": [
    "# Exercício 5 - Crie uma função anônima e atribua seu retorno a uma variável chamada soma. A expressão vai receber 2 \\n,\n",
    "# números como parâmetro e retornar a soma deles\"\n",
    "\n",
    "soma = lambda x1, x2: x1 + x2\n",
    "soma(5, 5)\n"
   ]
  },
  {
   "cell_type": "code",
   "execution_count": 42,
   "id": "1b71ddbb",
   "metadata": {},
   "outputs": [],
   "source": [
    "# Exercício 6 - Execute o código abaixo e certifique-se que compreende a diferença entre variável global e local\\n\n",
    "\n",
    "total = 0\n",
    "def soma( arg1, arg2 ):\n",
    "    total = arg1 + arg2\n",
    "    print (\"Dentro da função o total é:\", total)\n",
    "    return total"
   ]
  },
  {
   "cell_type": "code",
   "execution_count": 43,
   "id": "67e4878c",
   "metadata": {},
   "outputs": [
    {
     "name": "stdout",
     "output_type": "stream",
     "text": [
      "Dentro da função o total é: 40\n"
     ]
    },
    {
     "data": {
      "text/plain": [
       "40"
      ]
     },
     "execution_count": 43,
     "metadata": {},
     "output_type": "execute_result"
    }
   ],
   "source": [
    "soma(10,30)"
   ]
  },
  {
   "cell_type": "code",
   "execution_count": 41,
   "id": "2762506d",
   "metadata": {},
   "outputs": [
    {
     "name": "stdout",
     "output_type": "stream",
     "text": [
      "Fora da função o total é: 0\n"
     ]
    }
   ],
   "source": [
    "print(f\"Fora da função o total é: {total}\")"
   ]
  },
  {
   "cell_type": "code",
   "execution_count": 55,
   "id": "bbe9518f",
   "metadata": {},
   "outputs": [
    {
     "name": "stdout",
     "output_type": "stream",
     "text": [
      "[102.56, 97.7, 99.14, 100.03999999999999]\n"
     ]
    }
   ],
   "source": [
    "# Exercício 7 - Abaixo você encontra uma lista com temperaturas em graus Celsius\n",
    "# Crie uma função anônima que converta cada temperatura para Fahrenheit\\n,\n",
    "# Dica: para conseguir realizar este exercício, você deve criar sua função lambda, dentro de uma função \\n\",\n",
    "# (que será estudada no próximo capítulo). Isso permite aplicar sua função a cada elemento da lista\\n\",\n",
    "# Paraconverte de Celsius para Fahrenheit? (x °C × 9/5) + 32 = 32 °F\n",
    "\n",
    "celsius = [39.2, 36.5, 37.3, 37.8]\n",
    "fahrenheit = map(lambda x: x * (9 / 5) + 32, celsius)\n",
    "print(list(fahrenheit))"
   ]
  },
  {
   "cell_type": "code",
   "execution_count": 59,
   "id": "673ec9db",
   "metadata": {},
   "outputs": [
    {
     "name": "stdout",
     "output_type": "stream",
     "text": [
      "[<function <lambda> at 0x000001FA2FEBC4C0>, [12.4, 12.5, 12.6]]\n"
     ]
    }
   ],
   "source": [
    "lista = [12.4, 12.5, 12.6]\n",
    "# É necessário colocar ', lista' para ele percorrer a lista.\n",
    "test = lambda x: x*4 + 2, lista\n",
    "print(list(test))"
   ]
  },
  {
   "cell_type": "code",
   "execution_count": 9,
   "id": "cd32a985",
   "metadata": {},
   "outputs": [
    {
     "name": "stdout",
     "output_type": "stream",
     "text": [
      "[1, 4, 9, 16, 25, 36, 49, 64, 81, 100]\n"
     ]
    }
   ],
   "source": [
    "# Exercício 8 - Crie uma list comprehension que imprima o quadrado dos números de 1 a 10\n",
    "\n",
    "# Python espera que a expressão a ser valida x**2 fique na frente do loop for\n",
    "lista_quad = [x**2 for x in range(1,11)]\n",
    "print(lista_quad)"
   ]
  },
  {
   "cell_type": "code",
   "execution_count": 14,
   "id": "dd1f8462",
   "metadata": {},
   "outputs": [
    {
     "name": "stdout",
     "output_type": "stream",
     "text": [
      "['maça', 'banana', 'papaguaio', 'cachorro']\n"
     ]
    }
   ],
   "source": [
    "# Exercício 9 - Crie uma list comprehension que imprima as palavras com a letra a no nome\n",
    "palavras = ['maça', 'banana', 'coiote', 'papaguaio','cachorro' , 'urubu']\n",
    "palavras_a = [x for x in palavras if 'a' in x]\n",
    "\n",
    "print(palavras_a)"
   ]
  },
  {
   "cell_type": "code",
   "execution_count": 17,
   "id": "040abbe2",
   "metadata": {},
   "outputs": [
    {
     "name": "stdout",
     "output_type": "stream",
     "text": [
      "[1, 2, 3, 4]\n"
     ]
    }
   ],
   "source": [
    "# Exercício 10 - Crie uma list comprehension que imprima os números menores que 5 em um intervalo de 1 a 10\n",
    "lista = [x for x in range(1, 11) if x < 5]\n",
    "print(lista)"
   ]
  },
  {
   "cell_type": "markdown",
   "id": "8b525fe8",
   "metadata": {},
   "source": [
    "## FIM!"
   ]
  }
 ],
 "metadata": {
  "kernelspec": {
   "display_name": "Python 3 (ipykernel)",
   "language": "python",
   "name": "python3"
  },
  "language_info": {
   "codemirror_mode": {
    "name": "ipython",
    "version": 3
   },
   "file_extension": ".py",
   "mimetype": "text/x-python",
   "name": "python",
   "nbconvert_exporter": "python",
   "pygments_lexer": "ipython3",
   "version": "3.9.13"
  }
 },
 "nbformat": 4,
 "nbformat_minor": 5
}
