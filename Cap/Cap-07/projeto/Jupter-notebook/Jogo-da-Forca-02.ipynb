{
 "cells": [
  {
   "cell_type": "code",
   "execution_count": 1,
   "id": "128d6e9b",
   "metadata": {},
   "outputs": [],
   "source": [
    "import random\n",
    "import os\n",
    "\n",
    "def clear_screen():\n",
    "    \n",
    "    if name == 'nt':\n",
    "        _ = system('cls')"
   ]
  },
  {
   "cell_type": "code",
   "execution_count": 2,
   "id": "aabab9b9",
   "metadata": {},
   "outputs": [],
   "source": [
    "def game():\n",
    "    # clear_screen()\n",
    "    \n",
    "    try:\n",
    "        with open(\"C:\\\\PythonDSA\\\\Learn-Python\\\\Lab\\\\projeto1\\\\palavras.txt\", \"r\") as arquivo:\n",
    "            conteudo = arquivo.read()\n",
    "\n",
    "        texto_sem_espaco = conteudo.replace(\" \", \"\")\n",
    "        tamanho_da_palavra = texto_sem_espaco.split(\",\")\n",
    "        \n",
    "    except FileNotFoundError:\n",
    "        print(\"Arquivo não encontrado!\")\n",
    "        \n",
    "    chances = 8\n",
    "    wrong_letters = []\n",
    "    \n",
    "    choice_word = random.randint(0, len(tamanho_da_palavra))    \n",
    "    \n",
    "    size_word = ['_' for i in tamanho_da_palavra[choice_word]]\n",
    "    word = tamanho_da_palavra[choice_word] \n",
    "    print(size_word)\n",
    "                 \n",
    "    while chances > 0:\n",
    "        if '_' not in size_word:\n",
    "            break\n",
    "        else:\n",
    "            print(f\"\\nTentativas restantes: {chances}\")\n",
    "            print(f\"Letras erradas:\", \" \".join(wrong_letters))\n",
    "            print(size_word)\n",
    "            letra = input(\"Digite uma letra: \").lower()\n",
    "            \n",
    "            if letra in word:\n",
    "                for i, caractere in enumerate(word):\n",
    "                    if caractere == letra:\n",
    "                        size_word[i] = letra\n",
    "            else:\n",
    "                wrong_letters.append(letra)\n",
    "                \n",
    "            chances -= 1\n",
    "            \n",
    "    if chances == 0:\n",
    "        print(\"\\nVocê perdeu!!\")\n",
    "        print(word.upper())\n",
    "    else:\n",
    "        print(\"\\nYou're the man!!\")\n",
    "        print(word.upper())"
   ]
  },
  {
   "cell_type": "code",
   "execution_count": 4,
   "id": "a1b88287",
   "metadata": {},
   "outputs": [
    {
     "name": "stdout",
     "output_type": "stream",
     "text": [
      "['_', '_', '_', '_', '_', '_', '_']\n",
      "\n",
      "Tentativas restantes: 8\n",
      "Letras erradas: \n",
      "['_', '_', '_', '_', '_', '_', '_']\n",
      "Digite uma letra: m\n",
      "\n",
      "Tentativas restantes: 7\n",
      "Letras erradas: \n",
      "['m', '_', '_', '_', '_', '_', '_']\n",
      "Digite uma letra: e\n",
      "\n",
      "Tentativas restantes: 6\n",
      "Letras erradas: e\n",
      "['m', '_', '_', '_', '_', '_', '_']\n",
      "Digite uma letra: o\n",
      "\n",
      "Tentativas restantes: 5\n",
      "Letras erradas: e\n",
      "['m', 'o', '_', '_', '_', '_', 'o']\n",
      "Digite uma letra: r\n",
      "\n",
      "Tentativas restantes: 4\n",
      "Letras erradas: e\n",
      "['m', 'o', 'r', '_', '_', '_', 'o']\n",
      "Digite uma letra: a\n",
      "\n",
      "Tentativas restantes: 3\n",
      "Letras erradas: e\n",
      "['m', 'o', 'r', 'a', '_', '_', 'o']\n",
      "Digite uma letra: n\n",
      "\n",
      "Tentativas restantes: 2\n",
      "Letras erradas: e\n",
      "['m', 'o', 'r', 'a', 'n', '_', 'o']\n",
      "Digite uma letra: g\n",
      "\n",
      "You're the man!!\n",
      "MORANGO\n"
     ]
    }
   ],
   "source": [
    "if __name__ == \"__main__\":\n",
    "    game()"
   ]
  },
  {
   "cell_type": "code",
   "execution_count": 5,
   "id": "d036011b",
   "metadata": {},
   "outputs": [
    {
     "data": {
      "text/plain": [
       "'\\nwith open(\"C:\\\\PythonDSA\\\\Learn-Python\\\\Lab\\\\projeto1\\\\palavras.txt\", \"r\") as arquivo:\\n    conteudo = arquivo.read()\\n\\ntexto_sem_espaco = conteudo.replace(\" \", \"\")\\ntentativas = texto_sem_espaco.split(\",\")\\nprint(tentativas)\\n'"
      ]
     },
     "execution_count": 5,
     "metadata": {},
     "output_type": "execute_result"
    }
   ],
   "source": [
    "# Teste leitura de arquivo.txt\n",
    "'''\n",
    "with open(\"C:\\\\PythonDSA\\\\Learn-Python\\\\Lab\\\\projeto1\\\\palavras.txt\", \"r\") as arquivo:\n",
    "    conteudo = arquivo.read()\n",
    "\n",
    "texto_sem_espaco = conteudo.replace(\" \", \"\")\n",
    "tentativas = texto_sem_espaco.split(\",\")\n",
    "print(tentativas)\n",
    "'''\n"
   ]
  },
  {
   "cell_type": "code",
   "execution_count": null,
   "id": "6c75dc50",
   "metadata": {},
   "outputs": [],
   "source": []
  }
 ],
 "metadata": {
  "kernelspec": {
   "display_name": "Python 3 (ipykernel)",
   "language": "python",
   "name": "python3"
  },
  "language_info": {
   "codemirror_mode": {
    "name": "ipython",
    "version": 3
   },
   "file_extension": ".py",
   "mimetype": "text/x-python",
   "name": "python",
   "nbconvert_exporter": "python",
   "pygments_lexer": "ipython3",
   "version": "3.9.13"
  }
 },
 "nbformat": 4,
 "nbformat_minor": 5
}
