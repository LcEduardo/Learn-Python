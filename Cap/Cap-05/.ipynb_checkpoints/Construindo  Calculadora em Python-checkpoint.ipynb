{
 "cells": [
  {
   "cell_type": "markdown",
   "id": "f8be339b",
   "metadata": {},
   "source": [
    "## Contruindo Calculadora em Python"
   ]
  },
  {
   "cell_type": "code",
   "execution_count": 4,
   "id": "f9be206b",
   "metadata": {},
   "outputs": [],
   "source": [
    "\n",
    "def opera(op):\n",
    "    num1 = int(input(\"\\nDigite o primeiro número: \"))\n",
    "    num2 = int(input(\"\\nDigite o segundo número: \"))\n",
    "    \n",
    "    if op == 1: return print(f\"{num1} + {num2} = {num1 + num2}\")\n",
    "    elif op == 2: return print(f\"{num1} - {num2} = {num1 - num2}\")\n",
    "    elif op == 3: return print(f\"{num1} * {num2} = {num1 * num2}\")\n",
    "    elif op == 4: return print(f\"{num1} / {num2} = {num1 / num2}\")\n",
    "    else: return print(\"ERRO!!\")"
   ]
  },
  {
   "cell_type": "code",
   "execution_count": 1,
   "id": "bf03cbbb",
   "metadata": {},
   "outputs": [
    {
     "name": "stdout",
     "output_type": "stream",
     "text": [
      "************ Calculadora em Python ************\n",
      "\n",
      "Selecione o número da operação desejada:\n",
      " \n",
      "1 - Soma\n",
      "2 - Subtração\n",
      "3 - Multiplicação\n",
      "4 - Divisão\n"
     ]
    }
   ],
   "source": [
    "print(\"************ Calculadora em Python ************\\n\")\n",
    "print(\"Selecione o número da operação desejada:\\n \")\n",
    "print(\"1 - Soma\")\n",
    "print(\"2 - Subtração\")\n",
    "print(\"3 - Multiplicação\")\n",
    "print(\"4 - Divisão\")"
   ]
  },
  {
   "cell_type": "code",
   "execution_count": 2,
   "id": "c5bc1e0e",
   "metadata": {},
   "outputs": [
    {
     "name": "stdout",
     "output_type": "stream",
     "text": [
      "Digite sua opção (1/2/3/4): 3\n"
     ]
    }
   ],
   "source": [
    "num_ope = int(input(\"Digite sua opção (1/2/3/4): \"))"
   ]
  },
  {
   "cell_type": "code",
   "execution_count": 5,
   "id": "6862f4a7",
   "metadata": {},
   "outputs": [
    {
     "name": "stdout",
     "output_type": "stream",
     "text": [
      "\n",
      "Digite o primeiro número: 8\n",
      "\n",
      "Digite o segundo número: 8\n",
      "8 * 8 = 64\n"
     ]
    }
   ],
   "source": [
    "opera(num_ope)"
   ]
  }
 ],
 "metadata": {
  "kernelspec": {
   "display_name": "Python 3 (ipykernel)",
   "language": "python",
   "name": "python3"
  },
  "language_info": {
   "codemirror_mode": {
    "name": "ipython",
    "version": 3
   },
   "file_extension": ".py",
   "mimetype": "text/x-python",
   "name": "python",
   "nbconvert_exporter": "python",
   "pygments_lexer": "ipython3",
   "version": "3.9.13"
  }
 },
 "nbformat": 4,
 "nbformat_minor": 5
}
