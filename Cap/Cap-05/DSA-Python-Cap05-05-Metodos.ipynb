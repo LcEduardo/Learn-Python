{
 "cells": [
  {
   "cell_type": "markdown",
   "id": "c1501372",
   "metadata": {},
   "source": [
    "## Capítulo 5 - Métodos"
   ]
  },
  {
   "cell_type": "markdown",
   "id": "aaac1773",
   "metadata": {},
   "source": [
    "# Métodos"
   ]
  },
  {
   "cell_type": "markdown",
   "id": "9d5c68a5",
   "metadata": {},
   "source": [
    "Tudo em Python é objeto. E cada objeto tem métodos e atributos.\n",
    "\n",
    "- Atributos são propriedades, características do objeto\n",
    "- Métodos são funções com ações que podem ser executadas nos obejtos."
   ]
  },
  {
   "cell_type": "code",
   "execution_count": 1,
   "id": "53f9ea1c",
   "metadata": {},
   "outputs": [],
   "source": [
    "lista = [100, -2, 12, 65, 0]"
   ]
  },
  {
   "cell_type": "code",
   "execution_count": 2,
   "id": "e7da77e3",
   "metadata": {},
   "outputs": [
    {
     "data": {
      "text/plain": [
       "list"
      ]
     },
     "execution_count": 2,
     "metadata": {},
     "output_type": "execute_result"
    }
   ],
   "source": [
    "type(lista)"
   ]
  },
  {
   "cell_type": "code",
   "execution_count": 3,
   "id": "a41f5ac1",
   "metadata": {},
   "outputs": [],
   "source": [
    "# Usando um método do objeto lista\n",
    "lista.append(100)"
   ]
  },
  {
   "cell_type": "code",
   "execution_count": 4,
   "id": "c45e0d65",
   "metadata": {},
   "outputs": [
    {
     "name": "stdout",
     "output_type": "stream",
     "text": [
      "[100, -2, 12, 65, 0, 100]\n"
     ]
    }
   ],
   "source": [
    "print(lista)"
   ]
  },
  {
   "cell_type": "code",
   "execution_count": 5,
   "id": "2f8a406b",
   "metadata": {},
   "outputs": [
    {
     "data": {
      "text/plain": [
       "2"
      ]
     },
     "execution_count": 5,
     "metadata": {},
     "output_type": "execute_result"
    }
   ],
   "source": [
    "lista.count(100)"
   ]
  },
  {
   "cell_type": "code",
   "execution_count": 6,
   "id": "3a881ae8",
   "metadata": {},
   "outputs": [],
   "source": [
    "frase = 'Isso é uma string'"
   ]
  },
  {
   "cell_type": "code",
   "execution_count": 7,
   "id": "fc3d0449",
   "metadata": {},
   "outputs": [
    {
     "data": {
      "text/plain": [
       "str"
      ]
     },
     "execution_count": 7,
     "metadata": {},
     "output_type": "execute_result"
    }
   ],
   "source": [
    "type(frase)"
   ]
  },
  {
   "cell_type": "code",
   "execution_count": 8,
   "id": "d9cb9c67",
   "metadata": {},
   "outputs": [
    {
     "name": "stdout",
     "output_type": "stream",
     "text": [
      "['Isso', 'é', 'uma', 'string']\n"
     ]
    }
   ],
   "source": [
    "print(frase.split())"
   ]
  },
  {
   "cell_type": "markdown",
   "id": "0c609126",
   "metadata": {},
   "source": [
    "# Fim"
   ]
  },
  {
   "cell_type": "code",
   "execution_count": null,
   "id": "84c5bac6",
   "metadata": {},
   "outputs": [],
   "source": []
  }
 ],
 "metadata": {
  "kernelspec": {
   "display_name": "Python 3 (ipykernel)",
   "language": "python",
   "name": "python3"
  },
  "language_info": {
   "codemirror_mode": {
    "name": "ipython",
    "version": 3
   },
   "file_extension": ".py",
   "mimetype": "text/x-python",
   "name": "python",
   "nbconvert_exporter": "python",
   "pygments_lexer": "ipython3",
   "version": "3.9.13"
  }
 },
 "nbformat": 4,
 "nbformat_minor": 5
}
