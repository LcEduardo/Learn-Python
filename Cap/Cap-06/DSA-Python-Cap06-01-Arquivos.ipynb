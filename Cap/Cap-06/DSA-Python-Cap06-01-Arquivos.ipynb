{
 "cells": [
  {
   "cell_type": "markdown",
   "id": "0c207c86",
   "metadata": {},
   "source": [
    "## Capítulo 6 - Manipulação de Arquivos - Parte 1"
   ]
  },
  {
   "cell_type": "markdown",
   "id": "95882452",
   "metadata": {},
   "source": [
    "### Manipulação de Arquivos"
   ]
  },
  {
   "cell_type": "markdown",
   "id": "a5be5a83",
   "metadata": {},
   "source": [
    "#### Lendo Arquivos"
   ]
  },
  {
   "cell_type": "code",
   "execution_count": 53,
   "id": "5a4c96b4",
   "metadata": {},
   "outputs": [],
   "source": [
    "# Abrindo um arquivo para leitura\n",
    "arq1 = open(\"C:\\\\PythonDSA\\\\Learn-Python\\\\Cap\\\\Cap-06\\\\arquivos\\\\arquivo1.txt\", \"r\") # r = read"
   ]
  },
  {
   "cell_type": "markdown",
   "id": "a7bd4732",
   "metadata": {},
   "source": [
    "##### Parâmetros do open()\n",
    "- \"r\": Modo de leitura (padrão).\n",
    "- \"w\": Modo de escrita (substitui o conteúdo existente).\n",
    "- \"a\": Modo de adição (adiciona ao conteúdo existente).\n",
    "- \"r+\": Modo de leitura e escrita.\n",
    "- \"b\": Modo binário (usado para arquivos não-textuais como imagens)."
   ]
  },
  {
   "cell_type": "code",
   "execution_count": 54,
   "id": "ea94f751",
   "metadata": {},
   "outputs": [
    {
     "name": "stdout",
     "output_type": "stream",
     "text": [
      "Voce so consegue montar dados subestimando a si e aos outros. Pense em uma versao futura mais de si mesmo. Lute serio, seja mais ganancioso.\n"
     ]
    }
   ],
   "source": [
    "# Lendo o arquivo\n",
    "print(arq1.read())"
   ]
  },
  {
   "cell_type": "code",
   "execution_count": 55,
   "id": "c9b6be24",
   "metadata": {},
   "outputs": [
    {
     "name": "stdout",
     "output_type": "stream",
     "text": [
      "140\n"
     ]
    }
   ],
   "source": [
    "# Contar o número de caracteres\n",
    "print(arq1.tell())"
   ]
  },
  {
   "cell_type": "markdown",
   "id": "3117e19e",
   "metadata": {},
   "source": [
    "**Problema:** o cursor vai para o final do arquivo, ou seja, quando pedir para ele mostrar a frase denovo vai dar um merdinha:"
   ]
  },
  {
   "cell_type": "code",
   "execution_count": 56,
   "id": "fbfe1bd2",
   "metadata": {},
   "outputs": [
    {
     "name": "stdout",
     "output_type": "stream",
     "text": [
      "\n"
     ]
    }
   ],
   "source": [
    "# Lendo o arquivo denovo\n",
    "print(arq1.read())"
   ]
  },
  {
   "cell_type": "code",
   "execution_count": 57,
   "id": "6d003524",
   "metadata": {},
   "outputs": [
    {
     "name": "stdout",
     "output_type": "stream",
     "text": [
      "0\n"
     ]
    }
   ],
   "source": [
    "# Solução: retorne para o início do arquivo\n",
    "print(arq1.seek(0,0))"
   ]
  },
  {
   "cell_type": "code",
   "execution_count": 58,
   "id": "cafd02ba",
   "metadata": {},
   "outputs": [
    {
     "name": "stdout",
     "output_type": "stream",
     "text": [
      "Voce so consegue montar dados \n"
     ]
    }
   ],
   "source": [
    "# Lendo os primeiros 23 caracteres\n",
    "print(arq1.read(30))"
   ]
  },
  {
   "cell_type": "code",
   "execution_count": 59,
   "id": "ce6f41bc",
   "metadata": {},
   "outputs": [
    {
     "name": "stdout",
     "output_type": "stream",
     "text": [
      "subestimando a si e aos outros. Pense em uma versao futura mais de si mesmo. Lute serio, seja mais ganancioso.\n"
     ]
    }
   ],
   "source": [
    "print(arq1.read())"
   ]
  },
  {
   "cell_type": "markdown",
   "id": "ef679db0",
   "metadata": {},
   "source": [
    "#### Gravando Arquivos"
   ]
  },
  {
   "cell_type": "markdown",
   "id": "78944c97",
   "metadata": {},
   "source": [
    "Usamos o modo de escrita (w = write). Se o arquivo existir vamos sobrescreve-lo, caso contrário ele criara um novo arquivo."
   ]
  },
  {
   "cell_type": "code",
   "execution_count": 60,
   "id": "5dd0df41",
   "metadata": {},
   "outputs": [],
   "source": [
    "# Abrindo arquivo para gravação\n",
    "arq2 = open(\"C:\\\\PythonDSA\\\\Learn-Python\\\\Cap\\\\Cap-06\\\\arquivos\\\\arquivo2.txt\", \"w\") # w = write"
   ]
  },
  {
   "cell_type": "code",
   "execution_count": 61,
   "id": "d792c06b",
   "metadata": {},
   "outputs": [
    {
     "ename": "UnsupportedOperation",
     "evalue": "not readable",
     "output_type": "error",
     "traceback": [
      "\u001b[1;31m---------------------------------------------------------------------------\u001b[0m",
      "\u001b[1;31mUnsupportedOperation\u001b[0m                      Traceback (most recent call last)",
      "\u001b[1;32m~\\AppData\\Local\\Temp\\ipykernel_5032\\3775777952.py\u001b[0m in \u001b[0;36m<module>\u001b[1;34m\u001b[0m\n\u001b[0;32m      1\u001b[0m \u001b[1;31m# Como abrimos o arquivo apenas para gravação, não podemos usar comandos de leitura\u001b[0m\u001b[1;33m\u001b[0m\u001b[1;33m\u001b[0m\u001b[0m\n\u001b[1;32m----> 2\u001b[1;33m \u001b[0mprint\u001b[0m\u001b[1;33m(\u001b[0m\u001b[0marq2\u001b[0m\u001b[1;33m.\u001b[0m\u001b[0mread\u001b[0m\u001b[1;33m(\u001b[0m\u001b[1;33m)\u001b[0m\u001b[1;33m)\u001b[0m\u001b[1;33m\u001b[0m\u001b[1;33m\u001b[0m\u001b[0m\n\u001b[0m",
      "\u001b[1;31mUnsupportedOperation\u001b[0m: not readable"
     ]
    }
   ],
   "source": [
    "# Como abrimos o arquivo apenas para gravação, não podemos usar comandos de leitura\n",
    "print(arq2.read())"
   ]
  },
  {
   "cell_type": "code",
   "execution_count": 62,
   "id": "91c08cf2",
   "metadata": {},
   "outputs": [
    {
     "data": {
      "text/plain": [
       "29"
      ]
     },
     "execution_count": 62,
     "metadata": {},
     "output_type": "execute_result"
    }
   ],
   "source": [
    "# Gravando arquivo\n",
    "arq2.write(\"Nao se compare com os outros.\")"
   ]
  },
  {
   "cell_type": "code",
   "execution_count": 63,
   "id": "0fcee87d",
   "metadata": {},
   "outputs": [],
   "source": [
    "# Precisamos fechar o arquivo para poder utilizar outros métodos como r, a e etc\n",
    "arq2.close()"
   ]
  },
  {
   "cell_type": "code",
   "execution_count": 64,
   "id": "e7725f58",
   "metadata": {},
   "outputs": [],
   "source": [
    "# Lendo arquivo gravado\n",
    "arq2 = open(\"C:\\\\PythonDSA\\\\Learn-Python\\\\Cap\\\\Cap-06\\\\arquivos\\\\arquivo2.txt\", \"r\")"
   ]
  },
  {
   "cell_type": "code",
   "execution_count": 65,
   "id": "6a0042ae",
   "metadata": {},
   "outputs": [
    {
     "name": "stdout",
     "output_type": "stream",
     "text": [
      "Nao se compare com os outros.\n"
     ]
    }
   ],
   "source": [
    "print(arq2.read())"
   ]
  },
  {
   "cell_type": "code",
   "execution_count": 66,
   "id": "0ff1a32f",
   "metadata": {},
   "outputs": [],
   "source": [
    "# Acrescentando conteúdo\n",
    "arq2 = open(\"C:\\\\PythonDSA\\\\Learn-Python\\\\Cap\\\\Cap-06\\\\arquivos\\\\arquivo2.txt\", \"a\")"
   ]
  },
  {
   "cell_type": "code",
   "execution_count": 67,
   "id": "9a0d82a7",
   "metadata": {},
   "outputs": [
    {
     "data": {
      "text/plain": [
       "66"
      ]
     },
     "execution_count": 67,
     "metadata": {},
     "output_type": "execute_result"
    }
   ],
   "source": [
    "arq2.write(\" Todo mundo na maior parte das vezes esta na mesma merda que voce.\")"
   ]
  },
  {
   "cell_type": "code",
   "execution_count": 68,
   "id": "16912583",
   "metadata": {},
   "outputs": [],
   "source": [
    "arq2.close()"
   ]
  },
  {
   "cell_type": "code",
   "execution_count": 69,
   "id": "8d0b3a82",
   "metadata": {},
   "outputs": [],
   "source": [
    "arq2 = open(\"C:\\\\PythonDSA\\\\Learn-Python\\\\Cap\\\\Cap-06\\\\arquivos\\\\arquivo2.txt\", \"r\")"
   ]
  },
  {
   "cell_type": "code",
   "execution_count": 70,
   "id": "01f2ebf1",
   "metadata": {},
   "outputs": [
    {
     "name": "stdout",
     "output_type": "stream",
     "text": [
      "Nao se compare com os outros. Todo mundo na maior parte das vezes esta na mesma merda que voce.\n"
     ]
    }
   ],
   "source": [
    "print(arq2.read())"
   ]
  },
  {
   "cell_type": "code",
   "execution_count": 71,
   "id": "77bc0030",
   "metadata": {},
   "outputs": [
    {
     "name": "stdout",
     "output_type": "stream",
     "text": [
      "0\n"
     ]
    }
   ],
   "source": [
    "print(arq2.seek(0,0))"
   ]
  },
  {
   "cell_type": "code",
   "execution_count": 72,
   "id": "353c45bd",
   "metadata": {},
   "outputs": [
    {
     "name": "stdout",
     "output_type": "stream",
     "text": [
      "Nao se compare com os outros. Todo mundo na maior parte das vezes esta na mesma merda que voce.\n"
     ]
    }
   ],
   "source": [
    "print(arq2.read())"
   ]
  },
  {
   "cell_type": "code",
   "execution_count": null,
   "id": "3a723427",
   "metadata": {},
   "outputs": [],
   "source": []
  }
 ],
 "metadata": {
  "kernelspec": {
   "display_name": "Python 3 (ipykernel)",
   "language": "python",
   "name": "python3"
  },
  "language_info": {
   "codemirror_mode": {
    "name": "ipython",
    "version": 3
   },
   "file_extension": ".py",
   "mimetype": "text/x-python",
   "name": "python",
   "nbconvert_exporter": "python",
   "pygments_lexer": "ipython3",
   "version": "3.9.13"
  }
 },
 "nbformat": 4,
 "nbformat_minor": 5
}
