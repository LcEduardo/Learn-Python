{
 "cells": [
  {
   "cell_type": "markdown",
   "id": "7a028c2c",
   "metadata": {},
   "source": [
    "# Lab 3 - Trabalhando com Expressões Regulares em Python"
   ]
  },
  {
   "cell_type": "markdown",
   "id": "3af5754d",
   "metadata": {},
   "source": [
    "## Expressões Regulares\n",
    "\n",
    "Expressões regulares são padrões usados para combinar ou encontrar ocorrências de sequências de caracteres em uma string. Em Python, expressões regulares são geralmente usadas para manipular strings e realizar tarefas como validaçã de entrada de dados, extração de informações de string e substituição de texto."
   ]
  },
  {
   "cell_type": "code",
   "execution_count": 1,
   "id": "d04cfd5d",
   "metadata": {},
   "outputs": [],
   "source": [
    "import re"
   ]
  },
  {
   "cell_type": "code",
   "execution_count": 2,
   "id": "5afb32dc",
   "metadata": {},
   "outputs": [],
   "source": [
    "texto = \"Meu e-mail é exemplo@gmail.com e você pode me contatar em outro_email@yahoo.com.\""
   ]
  },
  {
   "cell_type": "code",
   "execution_count": 3,
   "id": "0715cd8e",
   "metadata": {},
   "outputs": [],
   "source": [
    "# Expressão reguçar para contar quantas vezes o caracter arroba aparece no texto\n",
    "result = len(re.findall(\"@\", texto))"
   ]
  },
  {
   "cell_type": "code",
   "execution_count": 4,
   "id": "045881ff",
   "metadata": {},
   "outputs": [
    {
     "name": "stdout",
     "output_type": "stream",
     "text": [
      "O caractere '@' apareceu 2 vezes no texto.\n"
     ]
    }
   ],
   "source": [
    "print(f\"O caractere '@' apareceu {result} vezes no texto.\")"
   ]
  },
  {
   "cell_type": "code",
   "execution_count": 5,
   "id": "d83f489e",
   "metadata": {},
   "outputs": [],
   "source": [
    "# Expressão regular para extrair a palavra que aparece após a palavra \"você\" em um texto\n",
    "result = re.findall(r'você (\\w+)', texto)"
   ]
  },
  {
   "cell_type": "code",
   "execution_count": 6,
   "id": "aa0377a1",
   "metadata": {},
   "outputs": [
    {
     "name": "stdout",
     "output_type": "stream",
     "text": [
      "A palavra após 'você' é: pode\n"
     ]
    }
   ],
   "source": [
    "print(\"A palavra após 'você' é:\", result[0])"
   ]
  },
  {
   "cell_type": "markdown",
   "id": "664e47a9",
   "metadata": {},
   "source": [
    "**Nota:** O r antes da string que representa a expressão regular em Python é usado para indicar que a string é uma string literal raw. Isso significa que as barras invertidas () não são interpretadas como caracteres de escape, mas são incluídasna expressão regular como parte do padrão."
   ]
  },
  {
   "cell_type": "code",
   "execution_count": 7,
   "id": "d3b11615",
   "metadata": {},
   "outputs": [],
   "source": [
    "# Expressão regulr para extrair endereços de e-mail de uma string\n",
    "emails = re.findall(r'\\b[A-Za-z0-9._%+-]+@[A-Za-z0-9.-]+\\.[A-Z|a-z]{2,}\\b', texto)"
   ]
  },
  {
   "cell_type": "code",
   "execution_count": 8,
   "id": "ab3cb024",
   "metadata": {},
   "outputs": [
    {
     "name": "stdout",
     "output_type": "stream",
     "text": [
      "['exemplo@gmail.com', 'outro_email@yahoo.com']\n"
     ]
    }
   ],
   "source": [
    "print(emails)"
   ]
  },
  {
   "cell_type": "markdown",
   "id": "e792aead",
   "metadata": {},
   "source": [
    "Visite a documentação :)\n",
    "\n",
    "https://docs.python.org/3.9/library/re.html"
   ]
  },
  {
   "cell_type": "code",
   "execution_count": 9,
   "id": "6a42a807",
   "metadata": {},
   "outputs": [],
   "source": [
    "text = \"Eu incrivelmente estava andando por ai, até que eu percebi que eu não estava andando rapidamente.\""
   ]
  },
  {
   "cell_type": "code",
   "execution_count": 10,
   "id": "8fefaccd",
   "metadata": {},
   "outputs": [
    {
     "name": "stdout",
     "output_type": "stream",
     "text": [
      "03-16: incrivelmente\n",
      "85-96: rapidamente\n"
     ]
    }
   ],
   "source": [
    "# Extraindo os advérbios da frase\n",
    "for m in re.finditer(r\"\\w+mente\\b\", text):\n",
    "    print('%02d-%02d: %s' % (m.start(), m.end(), m.group(0)))"
   ]
  },
  {
   "cell_type": "markdown",
   "id": "0681fce8",
   "metadata": {},
   "source": [
    "## REGEX com ChatGPT\n",
    "\n",
    "Música: Dois Tristes\n",
    "\n",
    "Simone Mendes"
   ]
  },
  {
   "cell_type": "code",
   "execution_count": 11,
   "id": "ea3221a2",
   "metadata": {},
   "outputs": [],
   "source": [
    "# Variável do tipo string\n",
    "musica = '''\n",
    "Ontem saímos de novo\n",
    "E você emburrada, com a cara fechada\n",
    "Tinha um casal do lado curtindo de boa\n",
    "Quando eu pedi alguém pra Deus\n",
    "Eu queria esse tipo de pessoa\n",
    "Nós somos dois tristes\n",
    "Que nunca serão felizes\n",
    "Tô com a sensação de que escolhi errado\n",
    "Quem tá do meu lado\n",
    "Quanto mais eu saio e conheço gente\n",
    "Isso fica mais claro\n",
    "Todo casal que eu vejo\n",
    "Bebe junto, tem assunto, tá feliz, beija de língua\n",
    "E a gente só briga, briga, briga, briga, briga\n",
    "Tô com a sensação de que escolhi errado\n",
    "Quem tá do meu lado\n",
    "Quanto mais eu saio e conheço! gente\n",
    "Isso fica mais claro\n",
    "'''"
   ]
  },
  {
   "cell_type": "code",
   "execution_count": 12,
   "id": "5d18ceec",
   "metadata": {},
   "outputs": [
    {
     "name": "stdout",
     "output_type": "stream",
     "text": [
      "\n",
      "Ontem saímos de novo\n",
      "E você emburrada, com a cara fechada\n",
      "Tinha um casal do lado curtindo de boa\n",
      "Quando eu pedi alguém pra Deus\n",
      "Eu queria esse tipo de pessoa\n",
      "Nós somos dois tristes\n",
      "Que nunca serão felizes\n",
      "Tô com a sensação de que escolhi errado\n",
      "Quem tá do meu lado\n",
      "Quanto mais eu saio e conheço gente\n",
      "Isso fica mais claro\n",
      "Todo casal que eu vejo\n",
      "Bebe junto, tem assunto, tá feliz, beija de língua\n",
      "E a gente só briga, briga, briga, briga, briga\n",
      "Tô com a sensação de que escolhi errado\n",
      "Quem tá do meu lado\n",
      "Quanto mais eu saio e conheço! gente\n",
      "Isso fica mais claro\n",
      "\n"
     ]
    }
   ],
   "source": [
    "print(musica)"
   ]
  },
  {
   "cell_type": "code",
   "execution_count": 13,
   "id": "5daec393",
   "metadata": {},
   "outputs": [
    {
     "name": "stdout",
     "output_type": "stream",
     "text": [
      "O caractere 'a' aparece 50 vezes no texto.\n"
     ]
    }
   ],
   "source": [
    "# Crie um REGEX para contar quantas vezes o caracter \"a\" aparece no texto musica\n",
    "ocorrencias = len(re.findall(r\"a\", musica, re.IGNORECASE))\n",
    "\n",
    "print(f\"O caractere 'a' aparece {ocorrencias} vezes no texto.\")"
   ]
  },
  {
   "cell_type": "code",
   "execution_count": 14,
   "id": "7c28d02b",
   "metadata": {},
   "outputs": [
    {
     "name": "stdout",
     "output_type": "stream",
     "text": [
      "A palavra 'lado' aparece 3 vezes no texto.\n"
     ]
    }
   ],
   "source": [
    "# Crie um REGEX em python para contar quantas vezes a palavra \"lado\" aparece em musica\n",
    "ocorrencias = len(re.findall(r\"\\blado\\b\", musica, re.IGNORECASE))\n",
    "\n",
    "print(f\"A palavra 'lado' aparece {ocorrencias} vezes no texto.\")"
   ]
  },
  {
   "cell_type": "code",
   "execution_count": 15,
   "id": "d3837fce",
   "metadata": {},
   "outputs": [
    {
     "name": "stdout",
     "output_type": "stream",
     "text": [
      "Palavras seguidas por exclamação: ['conheço!']\n"
     ]
    }
   ],
   "source": [
    "# Crie um REGEX em python para extrair as palavras seguidas por exclamação\n",
    "palavras_com_exclamacao = re.findall(r\"\\b\\w+!\", musica)\n",
    "\n",
    "print(\"Palavras seguidas por exclamação:\", palavras_com_exclamacao)"
   ]
  },
  {
   "cell_type": "code",
   "execution_count": 16,
   "id": "f3137073",
   "metadata": {},
   "outputs": [
    {
     "name": "stdout",
     "output_type": "stream",
     "text": [
      "Palavra(s) entre 'somos' e 'tristes': ['dois']\n"
     ]
    }
   ],
   "source": [
    "# Crie um REGEX que extrai qualquer palavra cujo antecessor seja a palavra \"somos\" e o sucessor \n",
    "# seja a palavra \"tristes\" em um texto\n",
    "palavra_entre_esse_e_amargo = re.findall(r\"\\bsomos\\s+(\\w+)\\s+tristes\\b\", musica)\n",
    "print(\"Palavra(s) entre 'somos' e 'tristes':\", palavra_entre_esse_e_amargo)"
   ]
  },
  {
   "cell_type": "code",
   "execution_count": 17,
   "id": "65c0bf3f",
   "metadata": {},
   "outputs": [
    {
     "name": "stdout",
     "output_type": "stream",
     "text": [
      "Parte das palavras antes do primeiro caractere acentuado: ['saí', 'você', 'algué', 'Nó', 'serã', 'Tô', 'sensaçã', 'tá', 'conheç', 'tá', 'lí', 'só', 'Tô', 'sensaçã', 'tá', 'conheç']\n"
     ]
    }
   ],
   "source": [
    "# Crie um REGEX que retorne as palavras com acento, mas somente os caracteres na palavra que\n",
    "# são anteriores ao caractere com acento.\n",
    "\n",
    "palavras_antes_do_acento = re.findall(r\"\\b[\\wÀ-ÿ]+[áéíóúàèìòùãõâêîôûç]\", musica, re.IGNORECASE)\n",
    "print(\"Parte das palavras antes do primeiro caractere acentuado:\", palavras_antes_do_acento)"
   ]
  },
  {
   "cell_type": "markdown",
   "id": "7bae9bbe",
   "metadata": {},
   "source": [
    "## Fim"
   ]
  }
 ],
 "metadata": {
  "kernelspec": {
   "display_name": "Python 3 (ipykernel)",
   "language": "python",
   "name": "python3"
  },
  "language_info": {
   "codemirror_mode": {
    "name": "ipython",
    "version": 3
   },
   "file_extension": ".py",
   "mimetype": "text/x-python",
   "name": "python",
   "nbconvert_exporter": "python",
   "pygments_lexer": "ipython3",
   "version": "3.9.13"
  }
 },
 "nbformat": 4,
 "nbformat_minor": 5
}
